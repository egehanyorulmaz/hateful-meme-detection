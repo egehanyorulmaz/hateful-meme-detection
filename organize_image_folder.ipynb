{
 "cells": [
  {
   "cell_type": "code",
   "execution_count": 1,
   "metadata": {},
   "outputs": [],
   "source": [
    "import os\n",
    "import shutil\n",
    "import os\n",
    "import numpy as np\n",
    "import pandas as pd\n",
    "import json\n"
   ]
  },
  {
   "cell_type": "code",
   "execution_count": 2,
   "metadata": {},
   "outputs": [],
   "source": [
    "TRAIN_JSONL_PATH = \"data_raw/train.jsonl\"\n",
    "EVAL_JSONL_PATH = \"data_raw/dev.jsonl\"\n",
    "TEST_JSONL_PATH = \"data_raw/test.jsonl\""
   ]
  },
  {
   "cell_type": "code",
   "execution_count": 5,
   "metadata": {},
   "outputs": [],
   "source": [
    "from helper.utils import read_jsonl\n",
    "\n",
    "train = read_jsonl(TRAIN_JSONL_PATH)\n",
    "eval_df = read_jsonl(EVAL_JSONL_PATH)\n",
    "test = read_jsonl(TEST_JSONL_PATH)"
   ]
  },
  {
   "cell_type": "code",
   "execution_count": 7,
   "metadata": {},
   "outputs": [
    {
     "data": {
      "text/html": [
       "<div>\n",
       "<style scoped>\n",
       "    .dataframe tbody tr th:only-of-type {\n",
       "        vertical-align: middle;\n",
       "    }\n",
       "\n",
       "    .dataframe tbody tr th {\n",
       "        vertical-align: top;\n",
       "    }\n",
       "\n",
       "    .dataframe thead th {\n",
       "        text-align: right;\n",
       "    }\n",
       "</style>\n",
       "<table border=\"1\" class=\"dataframe\">\n",
       "  <thead>\n",
       "    <tr style=\"text-align: right;\">\n",
       "      <th></th>\n",
       "      <th>id</th>\n",
       "      <th>img</th>\n",
       "      <th>label</th>\n",
       "      <th>text</th>\n",
       "      <th>dataset</th>\n",
       "    </tr>\n",
       "  </thead>\n",
       "  <tbody>\n",
       "    <tr>\n",
       "      <th>0</th>\n",
       "      <td>42953</td>\n",
       "      <td>img/42953.png</td>\n",
       "      <td>0.0</td>\n",
       "      <td>its their character not their color that matters</td>\n",
       "      <td>train</td>\n",
       "    </tr>\n",
       "    <tr>\n",
       "      <th>1</th>\n",
       "      <td>23058</td>\n",
       "      <td>img/23058.png</td>\n",
       "      <td>0.0</td>\n",
       "      <td>don't be afraid to love again everyone is not ...</td>\n",
       "      <td>train</td>\n",
       "    </tr>\n",
       "    <tr>\n",
       "      <th>2</th>\n",
       "      <td>13894</td>\n",
       "      <td>img/13894.png</td>\n",
       "      <td>0.0</td>\n",
       "      <td>putting bows on your pet</td>\n",
       "      <td>train</td>\n",
       "    </tr>\n",
       "    <tr>\n",
       "      <th>3</th>\n",
       "      <td>37408</td>\n",
       "      <td>img/37408.png</td>\n",
       "      <td>0.0</td>\n",
       "      <td>i love everything and everybody! except for sq...</td>\n",
       "      <td>train</td>\n",
       "    </tr>\n",
       "    <tr>\n",
       "      <th>4</th>\n",
       "      <td>82403</td>\n",
       "      <td>img/82403.png</td>\n",
       "      <td>0.0</td>\n",
       "      <td>everybody loves chocolate chip cookies, even h...</td>\n",
       "      <td>train</td>\n",
       "    </tr>\n",
       "  </tbody>\n",
       "</table>\n",
       "</div>"
      ],
      "text/plain": [
       "      id            img  label  \\\n",
       "0  42953  img/42953.png    0.0   \n",
       "1  23058  img/23058.png    0.0   \n",
       "2  13894  img/13894.png    0.0   \n",
       "3  37408  img/37408.png    0.0   \n",
       "4  82403  img/82403.png    0.0   \n",
       "\n",
       "                                                text dataset  \n",
       "0   its their character not their color that matters   train  \n",
       "1  don't be afraid to love again everyone is not ...   train  \n",
       "2                           putting bows on your pet   train  \n",
       "3  i love everything and everybody! except for sq...   train  \n",
       "4  everybody loves chocolate chip cookies, even h...   train  "
      ]
     },
     "execution_count": 7,
     "metadata": {},
     "output_type": "execute_result"
    }
   ],
   "source": [
    "train[\"dataset\"] = \"train\"\n",
    "eval_df[\"dataset\"] = \"eval\"\n",
    "test[\"dataset\"] = \"test\"\n",
    "\n",
    "df = pd.concat([train, eval_df, test], ignore_index=True)\n",
    "df.head()"
   ]
  },
  {
   "cell_type": "code",
   "execution_count": 8,
   "metadata": {},
   "outputs": [],
   "source": [
    "# replace the values in the label column from 0,1 to non_hateful and hateful\n",
    "df[\"label\"] = df[\"label\"].replace({0.0: \"non_hateful\", 1.0: \"hateful\"})"
   ]
  },
  {
   "cell_type": "code",
   "execution_count": 9,
   "metadata": {},
   "outputs": [
    {
     "data": {
      "text/plain": [
       "array(['non_hateful', 'hateful', nan], dtype=object)"
      ]
     },
     "execution_count": 9,
     "metadata": {},
     "output_type": "execute_result"
    }
   ],
   "source": [
    "df.label.unique()"
   ]
  },
  {
   "cell_type": "code",
   "execution_count": 10,
   "metadata": {},
   "outputs": [],
   "source": [
    "df[\"img\"] = \"data_raw/\" + df[\"img\"].astype(str)"
   ]
  },
  {
   "cell_type": "code",
   "execution_count": 11,
   "metadata": {},
   "outputs": [
    {
     "name": "stdout",
     "output_type": "stream",
     "text": [
      "Image copying completed successfully.\n"
     ]
    }
   ],
   "source": [
    "import os\n",
    "import shutil\n",
    "\n",
    "def copy_images_to_folders(dataframe):\n",
    "    unique_datasets = dataframe['dataset'].unique()\n",
    "\n",
    "    for dataset in unique_datasets:\n",
    "        dataset_folder = os.path.join(os.getcwd(), \"data_preprocessed\", dataset)\n",
    "        os.makedirs(dataset_folder, exist_ok=True)\n",
    "\n",
    "        dataset_classes = dataframe[dataframe['dataset'] == dataset]['label'].unique()\n",
    "        if len(dataset_classes) == 1:\n",
    "            continue\n",
    "\n",
    "        for class_name in dataset_classes:\n",
    "            class_folder = os.path.join(dataset_folder, str(class_name))\n",
    "            os.makedirs(class_folder, exist_ok=True)\n",
    "\n",
    "            class_images = dataframe[(dataframe['dataset'] == dataset) & (dataframe['label'] == class_name)]['img']\n",
    "            for image_path in class_images:\n",
    "                image_name = os.path.basename(image_path)\n",
    "                destination_path = os.path.join(class_folder, image_name)\n",
    "                shutil.copy(image_path, destination_path)\n",
    "\n",
    "    print(\"Image copying completed successfully.\")\n",
    "\n",
    "copy_images_to_folders(df)\n"
   ]
  },
  {
   "cell_type": "code",
   "execution_count": null,
   "metadata": {},
   "outputs": [],
   "source": []
  }
 ],
 "metadata": {
  "environment": {
   "kernel": "python3",
   "name": "tf2-gpu.2-11.m108",
   "type": "gcloud",
   "uri": "gcr.io/deeplearning-platform-release/tf2-gpu.2-11:m108"
  },
  "kernelspec": {
   "display_name": "Python 3 (ipykernel)",
   "language": "python",
   "name": "python3"
  },
  "language_info": {
   "codemirror_mode": {
    "name": "ipython",
    "version": 3
   },
   "file_extension": ".py",
   "mimetype": "text/x-python",
   "name": "python",
   "nbconvert_exporter": "python",
   "pygments_lexer": "ipython3",
   "version": "3.10.10"
  }
 },
 "nbformat": 4,
 "nbformat_minor": 4
}
