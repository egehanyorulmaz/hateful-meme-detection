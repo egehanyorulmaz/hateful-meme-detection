{
 "cells": [
  {
   "cell_type": "code",
   "execution_count": 7,
   "metadata": {},
   "outputs": [],
   "source": [
    "from tensorflow.keras.preprocessing import image\n",
    "import numpy as np\n",
    "import pandas as pd"
   ]
  },
  {
   "cell_type": "code",
   "execution_count": 4,
   "metadata": {},
   "outputs": [
    {
     "data": {
      "text/html": [
       "<div>\n",
       "<style scoped>\n",
       "    .dataframe tbody tr th:only-of-type {\n",
       "        vertical-align: middle;\n",
       "    }\n",
       "\n",
       "    .dataframe tbody tr th {\n",
       "        vertical-align: top;\n",
       "    }\n",
       "\n",
       "    .dataframe thead th {\n",
       "        text-align: right;\n",
       "    }\n",
       "</style>\n",
       "<table border=\"1\" class=\"dataframe\">\n",
       "  <thead>\n",
       "    <tr style=\"text-align: right;\">\n",
       "      <th></th>\n",
       "      <th>image_file</th>\n",
       "    </tr>\n",
       "  </thead>\n",
       "  <tbody>\n",
       "    <tr>\n",
       "      <th>0</th>\n",
       "      <td>data_raw/img/69351.png</td>\n",
       "    </tr>\n",
       "    <tr>\n",
       "      <th>1</th>\n",
       "      <td>data_raw/img/17843.png</td>\n",
       "    </tr>\n",
       "    <tr>\n",
       "      <th>2</th>\n",
       "      <td>data_raw/img/27980.png</td>\n",
       "    </tr>\n",
       "    <tr>\n",
       "      <th>3</th>\n",
       "      <td>data_raw/img/24537.png</td>\n",
       "    </tr>\n",
       "    <tr>\n",
       "      <th>4</th>\n",
       "      <td>data_raw/img/53967.png</td>\n",
       "    </tr>\n",
       "  </tbody>\n",
       "</table>\n",
       "</div>"
      ],
      "text/plain": [
       "               image_file\n",
       "0  data_raw/img/69351.png\n",
       "1  data_raw/img/17843.png\n",
       "2  data_raw/img/27980.png\n",
       "3  data_raw/img/24537.png\n",
       "4  data_raw/img/53967.png"
      ]
     },
     "execution_count": 4,
     "metadata": {},
     "output_type": "execute_result"
    }
   ],
   "source": [
    "import os\n",
    "import pandas as pd\n",
    "\n",
    "def create_image_df(folder_path):\n",
    "    # List all files in the directory\n",
    "    file_names = os.listdir(folder_path)\n",
    "\n",
    "    # Filter list for image files\n",
    "    image_files = [file for file in file_names if file.endswith(('.png', '.jpg', '.jpeg'))]\n",
    "\n",
    "    # Create a DataFrame\n",
    "    df = pd.DataFrame(image_files, columns=['image_file'])\n",
    "\n",
    "    # Prepend the folder path to the image file names\n",
    "    df['image_file'] = df['image_file'].apply(lambda x: os.path.join(folder_path, x))\n",
    "\n",
    "    return df\n",
    "\n",
    "# Usage\n",
    "folder_path = \"data_raw/img\"\n",
    "df = create_image_df(folder_path)\n",
    "df.head()"
   ]
  },
  {
   "cell_type": "code",
   "execution_count": 9,
   "metadata": {},
   "outputs": [],
   "source": [
    "test_img_path = df['image_file'][0]\n",
    "\n",
    "img = image.load_img(test_img_path, target_size=(224, 224))\n",
    "img_array = image.img_to_array(img)\n",
    "expanded_img_array = np.expand_dims(img_array, axis=0)"
   ]
  },
  {
   "cell_type": "code",
   "execution_count": 11,
   "metadata": {},
   "outputs": [
    {
     "data": {
      "text/plain": [
       "array([[[[0.14117648, 0.08627451, 0.07058824],\n",
       "         [0.16078432, 0.10196079, 0.07843138],\n",
       "         [0.16078432, 0.10588235, 0.08235294],\n",
       "         ...,\n",
       "         [0.29411766, 0.2901961 , 0.28627452],\n",
       "         [0.2901961 , 0.2901961 , 0.28627452],\n",
       "         [0.2627451 , 0.25882354, 0.25490198]],\n",
       "\n",
       "        [[0.4745098 , 0.29803923, 0.2509804 ],\n",
       "         [0.53333336, 0.34117648, 0.2784314 ],\n",
       "         [0.5411765 , 0.36078432, 0.28627452],\n",
       "         ...,\n",
       "         [0.99215686, 0.9882353 , 0.96862745],\n",
       "         [0.9843137 , 0.9882353 , 0.96862745],\n",
       "         [0.8862745 , 0.88235295, 0.8666667 ]],\n",
       "\n",
       "        [[0.46666667, 0.30588236, 0.25490198],\n",
       "         [0.5294118 , 0.34509805, 0.28627452],\n",
       "         [0.5411765 , 0.35686275, 0.28627452],\n",
       "         ...,\n",
       "         [0.99215686, 0.9882353 , 0.96862745],\n",
       "         [0.9843137 , 0.9882353 , 0.96862745],\n",
       "         [0.88235295, 0.8862745 , 0.8666667 ]],\n",
       "\n",
       "        ...,\n",
       "\n",
       "        [[0.06666667, 0.04313726, 0.0627451 ],\n",
       "         [0.08235294, 0.05490196, 0.08235294],\n",
       "         [0.12941177, 0.07843138, 0.11764706],\n",
       "         ...,\n",
       "         [0.00784314, 0.00784314, 0.02352941],\n",
       "         [0.01176471, 0.00784314, 0.02745098],\n",
       "         [0.01176471, 0.01176471, 0.03921569]],\n",
       "\n",
       "        [[0.05490196, 0.04313726, 0.06666667],\n",
       "         [0.08235294, 0.05882353, 0.08627451],\n",
       "         [0.11764706, 0.07450981, 0.10588235],\n",
       "         ...,\n",
       "         [0.01176471, 0.00784314, 0.02352941],\n",
       "         [0.01176471, 0.01176471, 0.03921569],\n",
       "         [0.01176471, 0.01176471, 0.03529412]],\n",
       "\n",
       "        [[0.01568628, 0.01176471, 0.02745098],\n",
       "         [0.03529412, 0.02745098, 0.04313726],\n",
       "         [0.05490196, 0.04313726, 0.0627451 ],\n",
       "         ...,\n",
       "         [0.00392157, 0.00392157, 0.01568628],\n",
       "         [0.00784314, 0.00784314, 0.02352941],\n",
       "         [0.00784314, 0.00784314, 0.02352941]]]], dtype=float32)"
      ]
     },
     "execution_count": 11,
     "metadata": {},
     "output_type": "execute_result"
    }
   ],
   "source": [
    "expanded_img_array = np.divide(expanded_img_array, 255) \n",
    "expanded_img_array"
   ]
  },
  {
   "cell_type": "code",
   "execution_count": null,
   "metadata": {},
   "outputs": [],
   "source": [
    "# iterate over the\n",
    "\n",
    "def extract_images(img_path):\n",
    "    img = image.load_img(img_path, target_size=(224, 224))\n",
    "    img_array = image.img_to_array(img)\n",
    "    expanded_img_array = np.expand_dims(img_array, axis=0)\n",
    "    \n",
    "    return expanded_img_array\n",
    "\n",
    "df['image_features'] = df['image_path'].apply(lambda img_path: extract_images(img_path))\n",
    "\n"
   ]
  },
  {
   "cell_type": "code",
   "execution_count": null,
   "metadata": {},
   "outputs": [],
   "source": [
    "img_path = \n",
    "\n",
    "## iterate over the img_path and get the file names from the folder"
   ]
  },
  {
   "attachments": {},
   "cell_type": "markdown",
   "metadata": {},
   "source": [
    "## VGG16"
   ]
  },
  {
   "cell_type": "code",
   "execution_count": 3,
   "metadata": {},
   "outputs": [],
   "source": [
    "from keras.applications.vgg16 import VGG16\n",
    "from keras.applications.vgg16 import preprocess_input"
   ]
  },
  {
   "cell_type": "code",
   "execution_count": null,
   "metadata": {},
   "outputs": [],
   "source": []
  },
  {
   "cell_type": "code",
   "execution_count": null,
   "metadata": {},
   "outputs": [],
   "source": []
  },
  {
   "cell_type": "code",
   "execution_count": 1,
   "metadata": {},
   "outputs": [
    {
     "name": "stderr",
     "output_type": "stream",
     "text": [
      "2023-05-22 15:28:44.751395: I tensorflow/core/platform/cpu_feature_guard.cc:182] This TensorFlow binary is optimized to use available CPU instructions in performance-critical operations.\n",
      "To enable the following instructions: SSE4.1 SSE4.2 AVX AVX2 FMA, in other operations, rebuild TensorFlow with the appropriate compiler flags.\n"
     ]
    },
    {
     "name": "stdout",
     "output_type": "stream",
     "text": [
      "Metal device set to: AMD Radeon Pro 5500M\n",
      "\n",
      "systemMemory: 16.00 GB\n",
      "maxCacheSize: 3.99 GB\n",
      "\n"
     ]
    },
    {
     "name": "stderr",
     "output_type": "stream",
     "text": [
      "2023-05-22 15:28:54.014433: I tensorflow/core/common_runtime/pluggable_device/pluggable_device_factory.cc:306] Could not identify NUMA node of platform GPU ID 0, defaulting to 0. Your kernel may not have been built with NUMA support.\n",
      "2023-05-22 15:28:54.014496: I tensorflow/core/common_runtime/pluggable_device/pluggable_device_factory.cc:272] Created TensorFlow device (/job:localhost/replica:0/task:0/device:GPU:0 with 0 MB memory) -> physical PluggableDevice (device: 0, name: METAL, pci bus id: <undefined>)\n"
     ]
    },
    {
     "name": "stdout",
     "output_type": "stream",
     "text": [
      "Downloading data from https://storage.googleapis.com/tensorflow/keras-applications/vgg16/vgg16_weights_tf_dim_ordering_tf_kernels_notop.h5\n",
      "58889256/58889256 [==============================] - 6s 0us/step\n",
      "Model: \"vgg16\"\n",
      "_________________________________________________________________\n",
      " Layer (type)                Output Shape              Param #   \n",
      "=================================================================\n",
      " input_1 (InputLayer)        [(None, 224, 224, 3)]     0         \n",
      "                                                                 \n",
      " block1_conv1 (Conv2D)       (None, 224, 224, 64)      1792      \n",
      "                                                                 \n",
      " block1_conv2 (Conv2D)       (None, 224, 224, 64)      36928     \n",
      "                                                                 \n",
      " block1_pool (MaxPooling2D)  (None, 112, 112, 64)      0         \n",
      "                                                                 \n",
      " block2_conv1 (Conv2D)       (None, 112, 112, 128)     73856     \n",
      "                                                                 \n",
      " block2_conv2 (Conv2D)       (None, 112, 112, 128)     147584    \n",
      "                                                                 \n",
      " block2_pool (MaxPooling2D)  (None, 56, 56, 128)       0         \n",
      "                                                                 \n",
      " block3_conv1 (Conv2D)       (None, 56, 56, 256)       295168    \n",
      "                                                                 \n",
      " block3_conv2 (Conv2D)       (None, 56, 56, 256)       590080    \n",
      "                                                                 \n",
      " block3_conv3 (Conv2D)       (None, 56, 56, 256)       590080    \n",
      "                                                                 \n",
      " block3_pool (MaxPooling2D)  (None, 28, 28, 256)       0         \n",
      "                                                                 \n",
      " block4_conv1 (Conv2D)       (None, 28, 28, 512)       1180160   \n",
      "                                                                 \n",
      " block4_conv2 (Conv2D)       (None, 28, 28, 512)       2359808   \n",
      "                                                                 \n",
      " block4_conv3 (Conv2D)       (None, 28, 28, 512)       2359808   \n",
      "                                                                 \n",
      " block4_pool (MaxPooling2D)  (None, 14, 14, 512)       0         \n",
      "                                                                 \n",
      " block5_conv1 (Conv2D)       (None, 14, 14, 512)       2359808   \n",
      "                                                                 \n",
      " block5_conv2 (Conv2D)       (None, 14, 14, 512)       2359808   \n",
      "                                                                 \n",
      " block5_conv3 (Conv2D)       (None, 14, 14, 512)       2359808   \n",
      "                                                                 \n",
      " block5_pool (MaxPooling2D)  (None, 7, 7, 512)         0         \n",
      "                                                                 \n",
      "=================================================================\n",
      "Total params: 14,714,688\n",
      "Trainable params: 0\n",
      "Non-trainable params: 14,714,688\n",
      "_________________________________________________________________\n"
     ]
    }
   ],
   "source": [
    "from keras.applications.vgg16 import VGG16\n",
    "from keras.applications.vgg16 import preprocess_input\n",
    "from keras.preprocessing import image\n",
    "import numpy as np\n",
    "import pandas as pd\n",
    "from keras.models import Model\n",
    "\n",
    "# load VGG16 model without classification layers\n",
    "model = VGG16(include_top=False, input_shape=(224, 224, 3))\n",
    "\n",
    "# Make sure the layers are not trainable\n",
    "for layer in model.layers:\n",
    "    layer.trainable = False\n",
    "\n",
    "# Display the model summary\n",
    "model.summary()\n"
   ]
  },
  {
   "cell_type": "code",
   "execution_count": null,
   "metadata": {},
   "outputs": [],
   "source": [
    "def extract_features(img_path, model):\n",
    "    img = image.load_img(img_path, target_size=(224, 224))\n",
    "    img_array = image.img_to_array(img)\n",
    "    expanded_img_array = np.expand_dims(img_array, axis=0)\n",
    "    preprocessed_img = preprocess_input(expanded_img_array)\n",
    "    features = model.predict(preprocessed_img)\n",
    "    flattened_features = features.flatten()\n",
    "    return flattened_features\n",
    "\n",
    "df['image_features'] = df['image_path'].apply(lambda img_path: extract_features(img_path, model))\n"
   ]
  }
 ],
 "metadata": {
  "kernelspec": {
   "display_name": "Python 3",
   "language": "python",
   "name": "python3"
  },
  "language_info": {
   "codemirror_mode": {
    "name": "ipython",
    "version": 3
   },
   "file_extension": ".py",
   "mimetype": "text/x-python",
   "name": "python",
   "nbconvert_exporter": "python",
   "pygments_lexer": "ipython3",
   "version": "3.8.8"
  },
  "orig_nbformat": 4
 },
 "nbformat": 4,
 "nbformat_minor": 2
}
