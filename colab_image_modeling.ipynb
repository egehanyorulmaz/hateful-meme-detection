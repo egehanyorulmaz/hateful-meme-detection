{
  "cells": [
    {
      "cell_type": "code",
      "source": [
        "!pip install pandarallel torchvision"
      ],
      "metadata": {
        "colab": {
          "base_uri": "https://localhost:8080/"
        },
        "id": "vqKcDxmj6zdU",
        "outputId": "b42990af-8950-4bd3-ae0e-98c21acbe312"
      },
      "id": "vqKcDxmj6zdU",
      "execution_count": 1,
      "outputs": [
        {
          "output_type": "stream",
          "name": "stdout",
          "text": [
            "Looking in indexes: https://pypi.org/simple, https://us-python.pkg.dev/colab-wheels/public/simple/\n",
            "Collecting pandarallel\n",
            "  Downloading pandarallel-1.6.5.tar.gz (14 kB)\n",
            "  Preparing metadata (setup.py) ... \u001b[?25l\u001b[?25hdone\n",
            "Requirement already satisfied: torchvision in /usr/local/lib/python3.10/dist-packages (0.15.2+cu118)\n",
            "Collecting dill>=0.3.1 (from pandarallel)\n",
            "  Downloading dill-0.3.6-py3-none-any.whl (110 kB)\n",
            "\u001b[2K     \u001b[90m━━━━━━━━━━━━━━━━━━━━━━━━━━━━━━━━━━━━━━━\u001b[0m \u001b[32m110.5/110.5 kB\u001b[0m \u001b[31m2.5 MB/s\u001b[0m eta \u001b[36m0:00:00\u001b[0m\n",
            "\u001b[?25hRequirement already satisfied: pandas>=1 in /usr/local/lib/python3.10/dist-packages (from pandarallel) (1.5.3)\n",
            "Requirement already satisfied: psutil in /usr/local/lib/python3.10/dist-packages (from pandarallel) (5.9.5)\n",
            "Requirement already satisfied: numpy in /usr/local/lib/python3.10/dist-packages (from torchvision) (1.22.4)\n",
            "Requirement already satisfied: requests in /usr/local/lib/python3.10/dist-packages (from torchvision) (2.27.1)\n",
            "Requirement already satisfied: torch==2.0.1 in /usr/local/lib/python3.10/dist-packages (from torchvision) (2.0.1+cu118)\n",
            "Requirement already satisfied: pillow!=8.3.*,>=5.3.0 in /usr/local/lib/python3.10/dist-packages (from torchvision) (8.4.0)\n",
            "Requirement already satisfied: filelock in /usr/local/lib/python3.10/dist-packages (from torch==2.0.1->torchvision) (3.12.0)\n",
            "Requirement already satisfied: typing-extensions in /usr/local/lib/python3.10/dist-packages (from torch==2.0.1->torchvision) (4.5.0)\n",
            "Requirement already satisfied: sympy in /usr/local/lib/python3.10/dist-packages (from torch==2.0.1->torchvision) (1.11.1)\n",
            "Requirement already satisfied: networkx in /usr/local/lib/python3.10/dist-packages (from torch==2.0.1->torchvision) (3.1)\n",
            "Requirement already satisfied: jinja2 in /usr/local/lib/python3.10/dist-packages (from torch==2.0.1->torchvision) (3.1.2)\n",
            "Requirement already satisfied: triton==2.0.0 in /usr/local/lib/python3.10/dist-packages (from torch==2.0.1->torchvision) (2.0.0)\n",
            "Requirement already satisfied: cmake in /usr/local/lib/python3.10/dist-packages (from triton==2.0.0->torch==2.0.1->torchvision) (3.25.2)\n",
            "Requirement already satisfied: lit in /usr/local/lib/python3.10/dist-packages (from triton==2.0.0->torch==2.0.1->torchvision) (16.0.5)\n",
            "Requirement already satisfied: python-dateutil>=2.8.1 in /usr/local/lib/python3.10/dist-packages (from pandas>=1->pandarallel) (2.8.2)\n",
            "Requirement already satisfied: pytz>=2020.1 in /usr/local/lib/python3.10/dist-packages (from pandas>=1->pandarallel) (2022.7.1)\n",
            "Requirement already satisfied: urllib3<1.27,>=1.21.1 in /usr/local/lib/python3.10/dist-packages (from requests->torchvision) (1.26.15)\n",
            "Requirement already satisfied: certifi>=2017.4.17 in /usr/local/lib/python3.10/dist-packages (from requests->torchvision) (2022.12.7)\n",
            "Requirement already satisfied: charset-normalizer~=2.0.0 in /usr/local/lib/python3.10/dist-packages (from requests->torchvision) (2.0.12)\n",
            "Requirement already satisfied: idna<4,>=2.5 in /usr/local/lib/python3.10/dist-packages (from requests->torchvision) (3.4)\n",
            "Requirement already satisfied: six>=1.5 in /usr/local/lib/python3.10/dist-packages (from python-dateutil>=2.8.1->pandas>=1->pandarallel) (1.16.0)\n",
            "Requirement already satisfied: MarkupSafe>=2.0 in /usr/local/lib/python3.10/dist-packages (from jinja2->torch==2.0.1->torchvision) (2.1.2)\n",
            "Requirement already satisfied: mpmath>=0.19 in /usr/local/lib/python3.10/dist-packages (from sympy->torch==2.0.1->torchvision) (1.3.0)\n",
            "Building wheels for collected packages: pandarallel\n",
            "  Building wheel for pandarallel (setup.py) ... \u001b[?25l\u001b[?25hdone\n",
            "  Created wheel for pandarallel: filename=pandarallel-1.6.5-py3-none-any.whl size=16677 sha256=22962b5e72f1e3f3d90ee2b41bec4c3245399d3a347e5f4107956e1a1b1dbc36\n",
            "  Stored in directory: /root/.cache/pip/wheels/50/4f/1e/34e057bb868842209f1623f195b74fd7eda229308a7352d47f\n",
            "Successfully built pandarallel\n",
            "Installing collected packages: dill, pandarallel\n",
            "Successfully installed dill-0.3.6 pandarallel-1.6.5\n"
          ]
        }
      ]
    },
    {
      "cell_type": "code",
      "source": [
        "ROOT_PATH = \"/content/drive/MyDrive/UChicago_MachineLearning/Machine_Learning/Final_Project\""
      ],
      "metadata": {
        "id": "bnk4okW-VGCO"
      },
      "id": "bnk4okW-VGCO",
      "execution_count": 2,
      "outputs": []
    },
    {
      "cell_type": "code",
      "execution_count": 3,
      "id": "e9feb072-1695-4159-b98a-17a749132f22",
      "metadata": {
        "id": "e9feb072-1695-4159-b98a-17a749132f22"
      },
      "outputs": [],
      "source": [
        "import os\n",
        "import shutil\n",
        "import numpy as np\n",
        "import pandas as pd\n",
        "import json\n"
      ]
    },
    {
      "cell_type": "code",
      "source": [
        "from google.colab import drive\n",
        "\n",
        "drive.mount(\"/content/drive\")"
      ],
      "metadata": {
        "colab": {
          "base_uri": "https://localhost:8080/"
        },
        "id": "IHQrKTOY5jTc",
        "outputId": "d94b8e66-1555-45a0-bb0f-5963b069c37c"
      },
      "id": "IHQrKTOY5jTc",
      "execution_count": 4,
      "outputs": [
        {
          "output_type": "stream",
          "name": "stdout",
          "text": [
            "Mounted at /content/drive\n"
          ]
        }
      ]
    },
    {
      "cell_type": "code",
      "execution_count": 5,
      "id": "245fcd52-5278-4d40-ab88-57ce6241c152",
      "metadata": {
        "colab": {
          "base_uri": "https://localhost:8080/"
        },
        "id": "245fcd52-5278-4d40-ab88-57ce6241c152",
        "outputId": "8c3dc560-94c2-4dd8-bd63-46114f63f60d"
      },
      "outputs": [
        {
          "output_type": "stream",
          "name": "stdout",
          "text": [
            "Available CPUs: 4\n",
            "INFO: Pandarallel will run on 4 workers.\n",
            "INFO: Pandarallel will use standard multiprocessing data transfer (pipe) to transfer data between the main process and workers.\n"
          ]
        }
      ],
      "source": [
        "from pandarallel import pandarallel\n",
        "import multiprocessing\n",
        "\n",
        "num_processors = multiprocessing.cpu_count()\n",
        "print(f'Available CPUs: {num_processors}')\n",
        "\n",
        "pandarallel.initialize(nb_workers=num_processors, use_memory_fs=False, progress_bar=True)"
      ]
    },
    {
      "cell_type": "code",
      "execution_count": 6,
      "id": "6d5a7c2d-ed85-4b50-a041-793e3d62b4d7",
      "metadata": {
        "id": "6d5a7c2d-ed85-4b50-a041-793e3d62b4d7"
      },
      "outputs": [],
      "source": [
        "TRAIN_JSONL_PATH = os.path.join(ROOT_PATH, \"data_raw/train.jsonl\")\n",
        "EVAL_JSONL_PATH =  os.path.join(ROOT_PATH, \"data_raw/dev.jsonl\")\n",
        "TEST_JSONL_PATH =  os.path.join(ROOT_PATH, \"data_raw/test.jsonl\")"
      ]
    },
    {
      "cell_type": "markdown",
      "id": "2e8549ba-e0d6-41b1-9051-1131ee3b524c",
      "metadata": {
        "id": "2e8549ba-e0d6-41b1-9051-1131ee3b524c"
      },
      "source": [
        "### Read the Data"
      ]
    },
    {
      "cell_type": "code",
      "execution_count": 7,
      "id": "95da5af7-f876-4b32-b51b-3d00123a1c04",
      "metadata": {
        "tags": [],
        "id": "95da5af7-f876-4b32-b51b-3d00123a1c04"
      },
      "outputs": [],
      "source": [
        "def read_jsonl(path):\n",
        "    # Open the JSONL file\n",
        "    with open(path, 'r') as file:\n",
        "        data_list = []\n",
        "        \n",
        "        # Read each line in the file\n",
        "        for line in file:\n",
        "            # Parse the JSON data from each line\n",
        "            data = json.loads(line)\n",
        "            \n",
        "            # Append the JSON data to the list\n",
        "            data_list.append(data)\n",
        "\n",
        "    # Create a Pandas DataFrame from the list of JSON objects\n",
        "    df = pd.DataFrame(data_list)\n",
        "    return df\n",
        "\n",
        "train = read_jsonl(TRAIN_JSONL_PATH)\n",
        "eval_df = read_jsonl(EVAL_JSONL_PATH)\n",
        "test = read_jsonl(TEST_JSONL_PATH)"
      ]
    },
    {
      "cell_type": "code",
      "execution_count": 8,
      "id": "0e7a53fb-eb68-426b-b175-b50121e3e1e3",
      "metadata": {
        "colab": {
          "base_uri": "https://localhost:8080/",
          "height": 206
        },
        "id": "0e7a53fb-eb68-426b-b175-b50121e3e1e3",
        "outputId": "1fbe93ee-bd7a-427a-c802-fb87bb1dd9d7"
      },
      "outputs": [
        {
          "output_type": "execute_result",
          "data": {
            "text/plain": [
              "      id            img  label  \\\n",
              "0  42953  img/42953.png    0.0   \n",
              "1  23058  img/23058.png    0.0   \n",
              "2  13894  img/13894.png    0.0   \n",
              "3  37408  img/37408.png    0.0   \n",
              "4  82403  img/82403.png    0.0   \n",
              "\n",
              "                                                text dataset  \n",
              "0   its their character not their color that matters   train  \n",
              "1  don't be afraid to love again everyone is not ...   train  \n",
              "2                           putting bows on your pet   train  \n",
              "3  i love everything and everybody! except for sq...   train  \n",
              "4  everybody loves chocolate chip cookies, even h...   train  "
            ],
            "text/html": [
              "\n",
              "  <div id=\"df-112fd117-a7d9-41ba-9f40-4bcbcde97aa5\">\n",
              "    <div class=\"colab-df-container\">\n",
              "      <div>\n",
              "<style scoped>\n",
              "    .dataframe tbody tr th:only-of-type {\n",
              "        vertical-align: middle;\n",
              "    }\n",
              "\n",
              "    .dataframe tbody tr th {\n",
              "        vertical-align: top;\n",
              "    }\n",
              "\n",
              "    .dataframe thead th {\n",
              "        text-align: right;\n",
              "    }\n",
              "</style>\n",
              "<table border=\"1\" class=\"dataframe\">\n",
              "  <thead>\n",
              "    <tr style=\"text-align: right;\">\n",
              "      <th></th>\n",
              "      <th>id</th>\n",
              "      <th>img</th>\n",
              "      <th>label</th>\n",
              "      <th>text</th>\n",
              "      <th>dataset</th>\n",
              "    </tr>\n",
              "  </thead>\n",
              "  <tbody>\n",
              "    <tr>\n",
              "      <th>0</th>\n",
              "      <td>42953</td>\n",
              "      <td>img/42953.png</td>\n",
              "      <td>0.0</td>\n",
              "      <td>its their character not their color that matters</td>\n",
              "      <td>train</td>\n",
              "    </tr>\n",
              "    <tr>\n",
              "      <th>1</th>\n",
              "      <td>23058</td>\n",
              "      <td>img/23058.png</td>\n",
              "      <td>0.0</td>\n",
              "      <td>don't be afraid to love again everyone is not ...</td>\n",
              "      <td>train</td>\n",
              "    </tr>\n",
              "    <tr>\n",
              "      <th>2</th>\n",
              "      <td>13894</td>\n",
              "      <td>img/13894.png</td>\n",
              "      <td>0.0</td>\n",
              "      <td>putting bows on your pet</td>\n",
              "      <td>train</td>\n",
              "    </tr>\n",
              "    <tr>\n",
              "      <th>3</th>\n",
              "      <td>37408</td>\n",
              "      <td>img/37408.png</td>\n",
              "      <td>0.0</td>\n",
              "      <td>i love everything and everybody! except for sq...</td>\n",
              "      <td>train</td>\n",
              "    </tr>\n",
              "    <tr>\n",
              "      <th>4</th>\n",
              "      <td>82403</td>\n",
              "      <td>img/82403.png</td>\n",
              "      <td>0.0</td>\n",
              "      <td>everybody loves chocolate chip cookies, even h...</td>\n",
              "      <td>train</td>\n",
              "    </tr>\n",
              "  </tbody>\n",
              "</table>\n",
              "</div>\n",
              "      <button class=\"colab-df-convert\" onclick=\"convertToInteractive('df-112fd117-a7d9-41ba-9f40-4bcbcde97aa5')\"\n",
              "              title=\"Convert this dataframe to an interactive table.\"\n",
              "              style=\"display:none;\">\n",
              "        \n",
              "  <svg xmlns=\"http://www.w3.org/2000/svg\" height=\"24px\"viewBox=\"0 0 24 24\"\n",
              "       width=\"24px\">\n",
              "    <path d=\"M0 0h24v24H0V0z\" fill=\"none\"/>\n",
              "    <path d=\"M18.56 5.44l.94 2.06.94-2.06 2.06-.94-2.06-.94-.94-2.06-.94 2.06-2.06.94zm-11 1L8.5 8.5l.94-2.06 2.06-.94-2.06-.94L8.5 2.5l-.94 2.06-2.06.94zm10 10l.94 2.06.94-2.06 2.06-.94-2.06-.94-.94-2.06-.94 2.06-2.06.94z\"/><path d=\"M17.41 7.96l-1.37-1.37c-.4-.4-.92-.59-1.43-.59-.52 0-1.04.2-1.43.59L10.3 9.45l-7.72 7.72c-.78.78-.78 2.05 0 2.83L4 21.41c.39.39.9.59 1.41.59.51 0 1.02-.2 1.41-.59l7.78-7.78 2.81-2.81c.8-.78.8-2.07 0-2.86zM5.41 20L4 18.59l7.72-7.72 1.47 1.35L5.41 20z\"/>\n",
              "  </svg>\n",
              "      </button>\n",
              "      \n",
              "  <style>\n",
              "    .colab-df-container {\n",
              "      display:flex;\n",
              "      flex-wrap:wrap;\n",
              "      gap: 12px;\n",
              "    }\n",
              "\n",
              "    .colab-df-convert {\n",
              "      background-color: #E8F0FE;\n",
              "      border: none;\n",
              "      border-radius: 50%;\n",
              "      cursor: pointer;\n",
              "      display: none;\n",
              "      fill: #1967D2;\n",
              "      height: 32px;\n",
              "      padding: 0 0 0 0;\n",
              "      width: 32px;\n",
              "    }\n",
              "\n",
              "    .colab-df-convert:hover {\n",
              "      background-color: #E2EBFA;\n",
              "      box-shadow: 0px 1px 2px rgba(60, 64, 67, 0.3), 0px 1px 3px 1px rgba(60, 64, 67, 0.15);\n",
              "      fill: #174EA6;\n",
              "    }\n",
              "\n",
              "    [theme=dark] .colab-df-convert {\n",
              "      background-color: #3B4455;\n",
              "      fill: #D2E3FC;\n",
              "    }\n",
              "\n",
              "    [theme=dark] .colab-df-convert:hover {\n",
              "      background-color: #434B5C;\n",
              "      box-shadow: 0px 1px 3px 1px rgba(0, 0, 0, 0.15);\n",
              "      filter: drop-shadow(0px 1px 2px rgba(0, 0, 0, 0.3));\n",
              "      fill: #FFFFFF;\n",
              "    }\n",
              "  </style>\n",
              "\n",
              "      <script>\n",
              "        const buttonEl =\n",
              "          document.querySelector('#df-112fd117-a7d9-41ba-9f40-4bcbcde97aa5 button.colab-df-convert');\n",
              "        buttonEl.style.display =\n",
              "          google.colab.kernel.accessAllowed ? 'block' : 'none';\n",
              "\n",
              "        async function convertToInteractive(key) {\n",
              "          const element = document.querySelector('#df-112fd117-a7d9-41ba-9f40-4bcbcde97aa5');\n",
              "          const dataTable =\n",
              "            await google.colab.kernel.invokeFunction('convertToInteractive',\n",
              "                                                     [key], {});\n",
              "          if (!dataTable) return;\n",
              "\n",
              "          const docLinkHtml = 'Like what you see? Visit the ' +\n",
              "            '<a target=\"_blank\" href=https://colab.research.google.com/notebooks/data_table.ipynb>data table notebook</a>'\n",
              "            + ' to learn more about interactive tables.';\n",
              "          element.innerHTML = '';\n",
              "          dataTable['output_type'] = 'display_data';\n",
              "          await google.colab.output.renderOutput(dataTable, element);\n",
              "          const docLink = document.createElement('div');\n",
              "          docLink.innerHTML = docLinkHtml;\n",
              "          element.appendChild(docLink);\n",
              "        }\n",
              "      </script>\n",
              "    </div>\n",
              "  </div>\n",
              "  "
            ]
          },
          "metadata": {},
          "execution_count": 8
        }
      ],
      "source": [
        "train[\"dataset\"] = \"train\"\n",
        "eval_df[\"dataset\"] = \"eval\"\n",
        "test[\"dataset\"] = \"test\"\n",
        "\n",
        "df = pd.concat([train, eval_df, test], ignore_index=True)\n",
        "df.head()"
      ]
    },
    {
      "cell_type": "code",
      "source": [
        "del train\n",
        "del eval_df\n",
        "del test"
      ],
      "metadata": {
        "id": "7L4niL36Vm7e"
      },
      "id": "7L4niL36Vm7e",
      "execution_count": 9,
      "outputs": []
    },
    {
      "cell_type": "code",
      "execution_count": 10,
      "id": "6334aa09-0ca3-4fde-b42f-d5219ffa2b1e",
      "metadata": {
        "id": "6334aa09-0ca3-4fde-b42f-d5219ffa2b1e"
      },
      "outputs": [],
      "source": [
        "# replace the values in the label column from 0,1 to non_hateful and hateful\n",
        "df[\"label\"] = df[\"label\"].replace({0.0: \"non_hateful\", 1.0: \"hateful\"})"
      ]
    },
    {
      "cell_type": "code",
      "execution_count": 11,
      "id": "374ba8cf-173f-4887-ab8d-a094deea50f7",
      "metadata": {
        "id": "374ba8cf-173f-4887-ab8d-a094deea50f7"
      },
      "outputs": [],
      "source": [
        "df[\"img\"] = os.path.join(ROOT_PATH, \"data_raw/\") + df[\"img\"].astype(str)"
      ]
    },
    {
      "cell_type": "code",
      "source": [
        "df[\"img\"][1]"
      ],
      "metadata": {
        "colab": {
          "base_uri": "https://localhost:8080/",
          "height": 53
        },
        "id": "HPxoU180Qquu",
        "outputId": "9454a0e7-4f18-4f12-9333-fe2498268fef"
      },
      "id": "HPxoU180Qquu",
      "execution_count": 12,
      "outputs": [
        {
          "output_type": "execute_result",
          "data": {
            "text/plain": [
              "'/content/drive/MyDrive/UChicago_MachineLearning/Machine_Learning/Final_Project/data_raw/img/23058.png'"
            ],
            "application/vnd.google.colaboratory.intrinsic+json": {
              "type": "string"
            }
          },
          "metadata": {},
          "execution_count": 12
        }
      ]
    },
    {
      "cell_type": "markdown",
      "source": [
        "### Organize the data"
      ],
      "metadata": {
        "id": "aYgbzRPz9quL"
      },
      "id": "aYgbzRPz9quL"
    },
    {
      "cell_type": "code",
      "source": [
        "import os\n",
        "\n",
        "# Authenticate to GCS.\n",
        "from google.colab import auth\n",
        "auth.authenticate_user()"
      ],
      "metadata": {
        "id": "vaVJ8VZA_U-t"
      },
      "id": "vaVJ8VZA_U-t",
      "execution_count": 13,
      "outputs": []
    },
    {
      "cell_type": "code",
      "source": [
        "ROOT_PATH"
      ],
      "metadata": {
        "colab": {
          "base_uri": "https://localhost:8080/",
          "height": 35
        },
        "id": "YQZLBoiABFXH",
        "outputId": "618445ee-9644-428b-9656-78d50b684a47"
      },
      "id": "YQZLBoiABFXH",
      "execution_count": 14,
      "outputs": [
        {
          "output_type": "execute_result",
          "data": {
            "text/plain": [
              "'/content/drive/MyDrive/UChicago_MachineLearning/Machine_Learning/Final_Project'"
            ],
            "application/vnd.google.colaboratory.intrinsic+json": {
              "type": "string"
            }
          },
          "metadata": {},
          "execution_count": 14
        }
      ]
    },
    {
      "cell_type": "code",
      "source": [
        "print(f\"gsutil -m cp -r gs://machine-learning-spring-2023/data_preprocessed {ROOT_PATH}/\")"
      ],
      "metadata": {
        "colab": {
          "base_uri": "https://localhost:8080/"
        },
        "id": "rSbjcSACBqzz",
        "outputId": "6d9f2b17-4b8b-4d6c-8e6d-2a30f48ecc5c"
      },
      "id": "rSbjcSACBqzz",
      "execution_count": 16,
      "outputs": [
        {
          "output_type": "stream",
          "name": "stdout",
          "text": [
            "gsutil -m cp -r gs://machine-learning-spring-2023/data_preprocessed /content/drive/MyDrive/UChicago_MachineLearning/Machine_Learning/Final_Project/\n"
          ]
        }
      ]
    },
    {
      "cell_type": "code",
      "source": [
        "## TAKES APPROX. 3 MINS\n",
        "# Copy the files from GCS to the current working directory in colab\n",
        "os.system(f'gsutil -m cp -r gs://machine-learning-spring-2023/data_preprocessed {ROOT_PATH}/')\n",
        "# os.system('gsutil cp -r gs://mybucket/folder2 .')\n",
        "# os.system('gsutil cp -r gs://mybucket/folder3 .')"
      ],
      "metadata": {
        "id": "bDyBpB2wWazI",
        "colab": {
          "base_uri": "https://localhost:8080/"
        },
        "outputId": "5e1004a3-258c-4ac5-9916-307eccb72311"
      },
      "id": "bDyBpB2wWazI",
      "execution_count": 15,
      "outputs": [
        {
          "output_type": "execute_result",
          "data": {
            "text/plain": [
              "2"
            ]
          },
          "metadata": {},
          "execution_count": 15
        }
      ]
    },
    {
      "cell_type": "code",
      "source": [
        "TARGET_MODEL_DATAPATH = \"/content/drive/MyDrive/UChicago_MachineLearning\""
      ],
      "metadata": {
        "id": "Y7AhI2JFWaop"
      },
      "id": "Y7AhI2JFWaop",
      "execution_count": null,
      "outputs": []
    },
    {
      "cell_type": "code",
      "source": [
        "df[(df['dataset'] == \"train\") & (df['label'] == \"hateful\")]['img'].iloc[0]"
      ],
      "metadata": {
        "colab": {
          "base_uri": "https://localhost:8080/",
          "height": 53
        },
        "id": "wRvFI-EIXgo4",
        "outputId": "a9e715a3-7621-42db-84c8-d8b9ed28521a"
      },
      "id": "wRvFI-EIXgo4",
      "execution_count": null,
      "outputs": [
        {
          "output_type": "execute_result",
          "data": {
            "text/plain": [
              "'/content/drive/MyDrive/UChicago_MachineLearning/Machine_Learning/Final_Project/data_raw/img/79351.png'"
            ],
            "application/vnd.google.colaboratory.intrinsic+json": {
              "type": "string"
            }
          },
          "metadata": {},
          "execution_count": 56
        }
      ]
    },
    {
      "cell_type": "code",
      "execution_count": null,
      "id": "acc826a2-549a-4963-8c88-38a564ee9b11",
      "metadata": {
        "colab": {
          "base_uri": "https://localhost:8080/"
        },
        "id": "acc826a2-549a-4963-8c88-38a564ee9b11",
        "outputId": "235b4da0-1487-40ae-c1fe-0dce32ae07c7"
      },
      "outputs": [
        {
          "output_type": "stream",
          "name": "stdout",
          "text": [
            "/content/drive/MyDrive/UChicago_MachineLearning/data_preprocessed/train\n"
          ]
        },
        {
          "output_type": "stream",
          "name": "stderr",
          "text": [
            "<ipython-input-51-cd17501b54f3>:11: FutureWarning: Automatic reindexing on DataFrame vs Series comparisons is deprecated and will raise ValueError in a future version. Do `left, right = left.align(right, axis=1, copy=False)` before e.g. `left == right`\n",
            "  dataset_classes = df[df['dataset'] == df]['label'].unique()\n"
          ]
        },
        {
          "output_type": "stream",
          "name": "stdout",
          "text": [
            "/content/drive/MyDrive/UChicago_MachineLearning/data_preprocessed/eval\n"
          ]
        },
        {
          "output_type": "stream",
          "name": "stderr",
          "text": [
            "<ipython-input-51-cd17501b54f3>:11: FutureWarning: Automatic reindexing on DataFrame vs Series comparisons is deprecated and will raise ValueError in a future version. Do `left, right = left.align(right, axis=1, copy=False)` before e.g. `left == right`\n",
            "  dataset_classes = df[df['dataset'] == df]['label'].unique()\n"
          ]
        },
        {
          "output_type": "stream",
          "name": "stdout",
          "text": [
            "/content/drive/MyDrive/UChicago_MachineLearning/data_preprocessed/test\n"
          ]
        },
        {
          "output_type": "stream",
          "name": "stderr",
          "text": [
            "<ipython-input-51-cd17501b54f3>:11: FutureWarning: Automatic reindexing on DataFrame vs Series comparisons is deprecated and will raise ValueError in a future version. Do `left, right = left.align(right, axis=1, copy=False)` before e.g. `left == right`\n",
            "  dataset_classes = df[df['dataset'] == df]['label'].unique()\n"
          ]
        },
        {
          "output_type": "stream",
          "name": "stdout",
          "text": [
            "Image copying completed successfully.\n"
          ]
        }
      ],
      "source": [
        "import os\n",
        "import shutil\n",
        "\n",
        "unique_datasets = df['dataset'].unique()\n",
        "\n",
        "for dataset in unique_datasets:\n",
        "    dataset_folder = os.path.join(TARGET_MODEL_DATAPATH, \"data_preprocessed\", dataset)\n",
        "    print(dataset_folder)\n",
        "    os.makedirs(dataset_folder, exist_ok=True)\n",
        "\n",
        "    dataset_classes = df[df['dataset'] == df]['label'].unique()\n",
        "    if len(dataset_classes) == 1:\n",
        "        continue\n",
        "\n",
        "    for class_name in dataset_classes:\n",
        "        print(class_name)\n",
        "        class_folder = os.path.join(dataset_folder, str(class_name))\n",
        "        os.makedirs(class_folder, exist_ok=True)\n",
        "\n",
        "        class_images = df[(df['dataset'] == dataset) & (df['label'] == class_name)]['img']\n",
        "        print(class_images.shape)\n",
        "        for image_path in class_images:\n",
        "            image_name = os.path.basename(image_path)\n",
        "            destination_path = os.path.join(class_folder, image_name)\n",
        "            shutil.copy(image_path, destination_path)\n",
        "        \n",
        "\n",
        "print(\"Image copying completed successfully.\")"
      ]
    },
    {
      "cell_type": "code",
      "source": [
        "gsutil cp -r gs://machine-learning-spring-2023/data_preprocessed .\n"
      ],
      "metadata": {
        "id": "YkEphE0e_KfT"
      },
      "id": "YkEphE0e_KfT",
      "execution_count": null,
      "outputs": []
    },
    {
      "cell_type": "code",
      "source": [
        "%ls \"/content/drive/MyDrive/UChicago_MachineLearning/data_preprocessed/train\""
      ],
      "metadata": {
        "id": "bcWm1sXvXJaG"
      },
      "id": "bcWm1sXvXJaG",
      "execution_count": null,
      "outputs": []
    },
    {
      "cell_type": "code",
      "execution_count": null,
      "id": "93bcea2d-3717-4a6e-bbc1-c9d3b09e35b9",
      "metadata": {
        "id": "93bcea2d-3717-4a6e-bbc1-c9d3b09e35b9"
      },
      "outputs": [],
      "source": [
        "df = df.head(1000)"
      ]
    },
    {
      "cell_type": "markdown",
      "id": "65bc5e41-73e5-4511-8bee-9322c2cdc6a1",
      "metadata": {
        "id": "65bc5e41-73e5-4511-8bee-9322c2cdc6a1"
      },
      "source": [
        "### Pixel Processing"
      ]
    },
    {
      "cell_type": "code",
      "source": [
        "def crop_center(img):\n",
        "    y, x, _ = img.shape\n",
        "    startx = x//2-(224//2)\n",
        "    starty = y//2-(224//2)    \n",
        "    return img[starty:starty+224, startx:startx+224, :]"
      ],
      "metadata": {
        "id": "IW-K9_VPETFX"
      },
      "id": "IW-K9_VPETFX",
      "execution_count": null,
      "outputs": []
    },
    {
      "cell_type": "code",
      "source": [
        "%ls -al"
      ],
      "metadata": {
        "colab": {
          "base_uri": "https://localhost:8080/"
        },
        "id": "n1cGK_RfPG_U",
        "outputId": "35e5a7c3-353d-4dff-c2cd-a7b2614ff1e6"
      },
      "id": "n1cGK_RfPG_U",
      "execution_count": null,
      "outputs": [
        {
          "output_type": "stream",
          "name": "stdout",
          "text": [
            "total 20\n",
            "drwxr-xr-x 1 root root 4096 May 23 20:19 \u001b[0m\u001b[01;34m.\u001b[0m/\n",
            "drwxr-xr-x 1 root root 4096 May 23 20:03 \u001b[01;34m..\u001b[0m/\n",
            "drwxr-xr-x 4 root root 4096 May 22 13:32 \u001b[01;34m.config\u001b[0m/\n",
            "drwx------ 6 root root 4096 May 23 20:19 \u001b[01;34mdrive\u001b[0m/\n",
            "drwxr-xr-x 1 root root 4096 May 22 13:33 \u001b[01;34msample_data\u001b[0m/\n"
          ]
        }
      ]
    },
    {
      "cell_type": "code",
      "execution_count": null,
      "id": "31d3d893-5d7c-4c7e-9bc3-8a74743ad62f",
      "metadata": {
        "colab": {
          "base_uri": "https://localhost:8080/",
          "height": 145,
          "referenced_widgets": [
            "38eb7905cf044455b7b9d3ba743580a9",
            "d0fe201d723a42c9979c64656299261c",
            "076b5c622197406aa2c0c62d4dab4368",
            "755da063b3fd45088378f8cf4e519c59",
            "7246415786b24d999687e86b690d1118",
            "7d5a6d15218f4b76837589e9a6d92779",
            "563753a8b4474167b88433142b55c221",
            "1357c96da7a443d9beb8580c58f81795",
            "ca007003fd92408190eab86a719a7569",
            "ccf72b2d04794201bfc522819010523a",
            "fd6817d3e6384edcb02e2d95b7c734e4",
            "1a2981b5933049409515dfb95433cb16",
            "a4a46472e4af462aa9c2daca908d75db",
            "8bd0b8e942a148a49ad2b03a54630900",
            "23a65d7cc4444e93aacaaaac5045d7fa",
            "84410f0d78aa42ce92b221b0a2ee3cc5",
            "baf94575359e4bb2a0748492f19609a1",
            "ca20bc67de8a447cadab9e69485df417",
            "5a83c90649a34c06b67ff9c7e40d2000",
            "fd85a7496e314f399057f7a6404cbf7c",
            "a2ba4dc77a4a47b489494fddadbdbc5f",
            "30f7ea8d37b246e291cfbf819f7a68ee",
            "ffb5a609573a4e6a89432c82aed2af6f",
            "bcdbb245e1c545fc8b0a66a5390ac522",
            "686596e9242d460e813264a1bdb8fd52",
            "bdf7c76a98db48928724544134583165",
            "af4b8b84898441f68050988878e06a62",
            "142046734fd94c83bc45a1f7e62b382d",
            "f0786e8b00be453a8d931c92d5cc4a42",
            "71133f1fc3ca4f559553195bbd5b9b49",
            "e8ba6a280e58497299be2988d0308eb2",
            "ba6711ddf52f4b118786fbcc4be11177",
            "4ab76b4f79d34a728d26fcef6cd5c4e5",
            "7adea03dc90941839d66147dbeaf00af"
          ]
        },
        "id": "31d3d893-5d7c-4c7e-9bc3-8a74743ad62f",
        "outputId": "340bbc4b-c0cb-484d-92d2-d02dc852f60d"
      },
      "outputs": [
        {
          "output_type": "display_data",
          "data": {
            "text/plain": [
              "VBox(children=(HBox(children=(IntProgress(value=0, description='0.00%', max=2500), Label(value='0 / 2500'))), …"
            ],
            "application/vnd.jupyter.widget-view+json": {
              "version_major": 2,
              "version_minor": 0,
              "model_id": "38eb7905cf044455b7b9d3ba743580a9"
            }
          },
          "metadata": {}
        }
      ],
      "source": [
        "from PIL import Image\n",
        "\n",
        "def load_image_pixels(image_path):\n",
        "    # Open the image file\n",
        "    try:\n",
        "        with Image.open(image_path) as img:\n",
        "            # Convert the image to RGB (if it's not already in that format)\n",
        "            img = img.convert('RGB')\n",
        "            # Get the pixel values as a numpy array and flatten it\n",
        "            pixels = np.array(img)\n",
        "            pixels = crop_center(pixels)\n",
        "            pixels = np.divide(pixels, 255)\n",
        "            pixels = np.squeeze(pixels\n",
        "                                )\n",
        "            return pixels\n",
        "    except:\n",
        "        return \"\"\n",
        "\n",
        "\n",
        "# Add a new column 'pixels' to the DataFrame\n",
        "df['pixels'] = df['img'].parallel_apply(load_image_pixels)"
      ]
    },
    {
      "cell_type": "code",
      "source": [
        "output_path = \"/content/drive/MyDrive/UChicago_MachineLearning/Machine_Learning/Final_Project/image_pixels.pkl\""
      ],
      "metadata": {
        "id": "ATEiA9b4_SsR"
      },
      "id": "ATEiA9b4_SsR",
      "execution_count": null,
      "outputs": []
    },
    {
      "cell_type": "code",
      "source": [
        "df.to_pickle(output_path)"
      ],
      "metadata": {
        "id": "BYK3hKJZ_cSq"
      },
      "id": "BYK3hKJZ_cSq",
      "execution_count": null,
      "outputs": []
    },
    {
      "cell_type": "markdown",
      "source": [
        "### Read the Pixel Data"
      ],
      "metadata": {
        "id": "Gpbo46VXChGi"
      },
      "id": "Gpbo46VXChGi"
    },
    {
      "cell_type": "code",
      "source": [
        "output_path = \"/content/drive/MyDrive/UChicago_MachineLearning/Machine_Learning/Final_Project/image_pixels.pkl\""
      ],
      "metadata": {
        "id": "VVcyRWW_Clgc"
      },
      "id": "VVcyRWW_Clgc",
      "execution_count": 20,
      "outputs": []
    },
    {
      "cell_type": "code",
      "source": [
        "df = pd.read_pickle(output_path)"
      ],
      "metadata": {
        "id": "5Pqbe_A9UOkJ"
      },
      "id": "5Pqbe_A9UOkJ",
      "execution_count": 22,
      "outputs": []
    },
    {
      "cell_type": "code",
      "source": [
        "print(\"Length before processing: \", df.shape)\n",
        "df = df[df.pixels != \"\"]\n",
        "print(\"Length after processing: \", df.shape)\n"
      ],
      "metadata": {
        "colab": {
          "base_uri": "https://localhost:8080/"
        },
        "id": "V6JGGvscURXT",
        "outputId": "5111a52c-2709-42f7-a700-9505dc4a2356"
      },
      "id": "V6JGGvscURXT",
      "execution_count": 23,
      "outputs": [
        {
          "output_type": "stream",
          "name": "stdout",
          "text": [
            "Length before processing:  (10000, 6)\n",
            "Length after processing:  (4042, 6)\n"
          ]
        },
        {
          "output_type": "stream",
          "name": "stderr",
          "text": [
            "/usr/local/lib/python3.10/dist-packages/pandas/core/ops/array_ops.py:75: FutureWarning: elementwise comparison failed; returning scalar instead, but in the future will perform elementwise comparison\n",
            "  result = libops.scalar_compare(x.ravel(), y, op)\n"
          ]
        }
      ]
    },
    {
      "cell_type": "code",
      "source": [
        "df = df.head(1000)"
      ],
      "metadata": {
        "id": "6z1Qtb_7UfRK"
      },
      "id": "6z1Qtb_7UfRK",
      "execution_count": 24,
      "outputs": []
    },
    {
      "cell_type": "markdown",
      "id": "77759b8d-7a29-406b-aef8-5b8a0e25648f",
      "metadata": {
        "id": "77759b8d-7a29-406b-aef8-5b8a0e25648f"
      },
      "source": [
        "### Modeling"
      ]
    },
    {
      "cell_type": "code",
      "execution_count": 25,
      "id": "5ed6b578-1e92-49c9-986c-75b7657c39f7",
      "metadata": {
        "id": "5ed6b578-1e92-49c9-986c-75b7657c39f7",
        "colab": {
          "base_uri": "https://localhost:8080/"
        },
        "outputId": "b2ff3742-f286-48e7-aebe-f8a720028407"
      },
      "outputs": [
        {
          "output_type": "execute_result",
          "data": {
            "text/plain": [
              "<contextlib.ExitStack at 0x7f41ac38a020>"
            ]
          },
          "metadata": {},
          "execution_count": 25
        }
      ],
      "source": [
        "from __future__ import print_function, division\n",
        "\n",
        "import torch\n",
        "import torch.nn as nn\n",
        "import torch.optim as optim\n",
        "from torch.optim import lr_scheduler\n",
        "import torch.backends.cudnn as cudnn\n",
        "import numpy as np\n",
        "import torchvision\n",
        "from torchvision import datasets, models, transforms\n",
        "import matplotlib.pyplot as plt\n",
        "import time\n",
        "import os\n",
        "import copy\n",
        "\n",
        "cudnn.benchmark = True\n",
        "plt.ion()   # interactive mode"
      ]
    },
    {
      "cell_type": "code",
      "source": [
        "df[\"pixels\"][0].shape"
      ],
      "metadata": {
        "colab": {
          "base_uri": "https://localhost:8080/"
        },
        "id": "pFNB_R3nUjbc",
        "outputId": "7379f2e0-e711-4ea1-aa7a-412fcae5e3d5"
      },
      "id": "pFNB_R3nUjbc",
      "execution_count": null,
      "outputs": [
        {
          "output_type": "execute_result",
          "data": {
            "text/plain": [
              "(224, 224, 3)"
            ]
          },
          "metadata": {},
          "execution_count": 29
        }
      ]
    },
    {
      "cell_type": "code",
      "execution_count": 26,
      "id": "75c6eed6-62fb-4f96-bc2b-4eca8f6bccb4",
      "metadata": {
        "id": "75c6eed6-62fb-4f96-bc2b-4eca8f6bccb4"
      },
      "outputs": [],
      "source": [
        "import numpy as np\n",
        "from torchvision import transforms\n",
        "\n",
        "def calculate_mean_std(dataset):\n",
        "    \"\"\"\n",
        "    Calculate the mean and standard deviation of a dataset.\n",
        "    \n",
        "    Args:\n",
        "        dataset: PyTorch dataset object.\n",
        "        \n",
        "    Returns:\n",
        "        mean: List of mean values for each channel.\n",
        "        std: List of standard deviation values for each channel.\n",
        "    \"\"\"\n",
        "    # Initialize lists to store channel-wise mean and std\n",
        "    mean = [0.0, 0.0, 0.0]\n",
        "    std = [0.0, 0.0, 0.0]\n",
        "\n",
        "    # Loop over the dataset to calculate mean and std\n",
        "    for image in dataset:\n",
        "        for i in range(3):  # Assuming 3 channels (RGB)\n",
        "            mean[i] += image[:, :, i].mean()\n",
        "            std[i] += image[:, :, i].std()\n",
        "\n",
        "    # Calculate the average mean and std across the dataset\n",
        "    mean = [m / len(dataset) for m in mean]\n",
        "    std = [s / len(dataset) for s in std]\n",
        "\n",
        "    return mean, std\n",
        "\n",
        "# Calculate the mean and std for the training set\n",
        "mean, std = calculate_mean_std(df['pixels'])"
      ]
    },
    {
      "cell_type": "code",
      "execution_count": 27,
      "id": "6f9bf37c-6da5-47aa-969b-e6dedcf673da",
      "metadata": {
        "id": "6f9bf37c-6da5-47aa-969b-e6dedcf673da",
        "colab": {
          "base_uri": "https://localhost:8080/"
        },
        "outputId": "53cf8a83-52f3-46ba-99cf-fbf56a3d8516"
      },
      "outputs": [
        {
          "output_type": "execute_result",
          "data": {
            "text/plain": [
              "([0.5211238887569434, 0.46482455464967737, 0.4327499024649817],\n",
              " [0.2448677329966468, 0.2377475702818632, 0.2375984268656204])"
            ]
          },
          "metadata": {},
          "execution_count": 27
        }
      ],
      "source": [
        "mean, std"
      ]
    },
    {
      "cell_type": "markdown",
      "id": "d7dbc01d-df28-4d27-ab25-523be60dfbfb",
      "metadata": {
        "id": "d7dbc01d-df28-4d27-ab25-523be60dfbfb"
      },
      "source": [
        "### Transformation"
      ]
    },
    {
      "cell_type": "code",
      "execution_count": 51,
      "id": "15b8cc70-95a9-47fe-bae3-b3a606d0e916",
      "metadata": {
        "id": "15b8cc70-95a9-47fe-bae3-b3a606d0e916"
      },
      "outputs": [],
      "source": [
        "# Data augmentation and normalization for training\n",
        "# Just normalization for validation\n",
        "data_transforms = {\n",
        "    'train': transforms.Compose([\n",
        "        transforms.RandomResizedCrop(224),\n",
        "        transforms.RandomHorizontalFlip(),\n",
        "        transforms.Resize((224, 224)),  # Resize all images to 224 x 224\n",
        "\n",
        "        transforms.ToTensor(),\n",
        "        transforms.Normalize(mean, std)\n",
        "    ]),\n",
        "    'eval': transforms.Compose([\n",
        "        transforms.Resize((224, 224)),  # Resize all images to 224 x 224\n",
        "        transforms.ToTensor(),\n",
        "        transforms.Normalize(mean, std)]),\n",
        "}\n",
        "\n",
        "data_dir = \"/content/drive/MyDrive/UChicago_MachineLearning/Machine_Learning/Final_Project/data_preprocessed/train\"\n",
        "\n",
        "image_datasets = {x: datasets.ImageFolder(data_dir,\n",
        "                                          data_transforms[x])\n",
        "                  for x in ['train', 'eval']}"
      ]
    },
    {
      "cell_type": "code",
      "execution_count": 52,
      "id": "60f7a939-df87-494a-99e6-df3200793eeb",
      "metadata": {
        "id": "60f7a939-df87-494a-99e6-df3200793eeb"
      },
      "outputs": [],
      "source": [
        "dataloaders = {x: torch.utils.data.DataLoader(image_datasets[x], batch_size=4,\n",
        "                                             shuffle=True, num_workers=3)\n",
        "              for x in ['train', 'eval']}\n",
        "              \n",
        "dataset_sizes = {x: len(image_datasets[x]) for x in ['train', 'eval']}\n",
        "class_names = image_datasets['train'].classes\n",
        "\n",
        "device = torch.device(\"cuda:0\" if torch.cuda.is_available() else \"cpu\")"
      ]
    },
    {
      "cell_type": "code",
      "execution_count": 53,
      "id": "e60e36cc-33f1-49d4-9085-32e5720c3219",
      "metadata": {
        "id": "e60e36cc-33f1-49d4-9085-32e5720c3219",
        "colab": {
          "base_uri": "https://localhost:8080/",
          "height": 207
        },
        "outputId": "cc9dee99-7c49-4004-c4a7-e18989f9948c"
      },
      "outputs": [
        {
          "output_type": "display_data",
          "data": {
            "text/plain": [
              "<Figure size 640x480 with 1 Axes>"
            ],
            "image/png": "[encoded data removed]"
          },
          "metadata": {}
        }
      ],
      "source": [
        "def imshow(inp, mean, std, title=None):\n",
        "    \"\"\"Display image for Tensor.\"\"\"\n",
        "    inp = inp.numpy().transpose((1, 2, 0))\n",
        "    inp = std * inp + mean\n",
        "    inp = np.clip(inp, 0, 1)\n",
        "    plt.imshow(inp)\n",
        "    if title is not None:\n",
        "        plt.title(title)\n",
        "    plt.pause(0.001)  # pause a bit so that plots are updated\n",
        "\n",
        "\n",
        "# Get a batch of training data\n",
        "inputs, classes = next(iter(dataloaders['train']))\n",
        "\n",
        "# Make a grid from batch\n",
        "out = torchvision.utils.make_grid(inputs)\n",
        "\n",
        "imshow(out, mean, std, title=[class_names[x] for x in classes])"
      ]
    },
    {
      "cell_type": "markdown",
      "id": "8b1c9c97-7aa0-4509-b498-9587e7aa8550",
      "metadata": {
        "id": "8b1c9c97-7aa0-4509-b498-9587e7aa8550"
      },
      "source": [
        "### Training"
      ]
    },
    {
      "cell_type": "code",
      "execution_count": 65,
      "id": "d226922b-41bc-4fb8-bc9b-88743c942cac",
      "metadata": {
        "id": "d226922b-41bc-4fb8-bc9b-88743c942cac"
      },
      "outputs": [],
      "source": [
        "def train_model(model, criterion, optimizer, scheduler, num_epochs=25):\n",
        "    since = time.time()\n",
        "\n",
        "    best_model_wts = copy.deepcopy(model.state_dict())\n",
        "    best_acc = 0.0\n",
        "\n",
        "    train_loss_per_epoch = []\n",
        "    eval_loss_per_epoch = []\n",
        "\n",
        "    train_acc_per_epoch = []\n",
        "    eval_acc_per_epoch = []\n",
        "\n",
        "    for epoch in range(num_epochs):\n",
        "        print(f'Epoch {epoch}/{num_epochs - 1}')\n",
        "        print('-' * 10)\n",
        "\n",
        "        # Each epoch has a training and validation phase\n",
        "        for phase in ['train', 'eval']:\n",
        "            if phase == 'train':\n",
        "                model.train()  # Set model to training mode\n",
        "            else:\n",
        "                model.eval()   # Set model to evaluate mode\n",
        "\n",
        "            running_loss = 0.0\n",
        "            running_corrects = 0\n",
        "\n",
        "            # Iterate over data.\n",
        "            for inputs, labels in dataloaders[phase]:\n",
        "                inputs = inputs.to(device)\n",
        "                labels = labels.to(device)\n",
        "\n",
        "                # zero the parameter gradients\n",
        "                optimizer.zero_grad()\n",
        "\n",
        "                # forward\n",
        "                # track history if only in train\n",
        "                with torch.set_grad_enabled(phase == 'train'):\n",
        "                    outputs = model(inputs)\n",
        "                    _, preds = torch.max(outputs, 1)\n",
        "                    loss = criterion(outputs, labels)\n",
        "\n",
        "                    # backward + optimize only if in training phase\n",
        "                    if phase == 'train':\n",
        "                        loss.backward()\n",
        "                        optimizer.step()\n",
        "\n",
        "                # statistics\n",
        "                running_loss += loss.item() * inputs.size(0)\n",
        "                running_corrects += torch.sum(preds == labels.data)\n",
        "            if phase == 'train':\n",
        "                scheduler.step()\n",
        "\n",
        "            epoch_loss = running_loss / dataset_sizes[phase]\n",
        "            epoch_acc = running_corrects.double() / dataset_sizes[phase]\n",
        "            if phase == 'train':\n",
        "                train_loss_per_epoch.append(epoch_loss)\n",
        "                train_acc_per_epoch.append(epoch_acc.item())\n",
        "            elif phase == 'eval':\n",
        "                eval_loss_per_epoch.append(epoch_loss)\n",
        "                eval_acc_per_epoch.append(epoch_acc.item())\n",
        "\n",
        "            print(f'{phase} Loss: {epoch_loss:.4f} Acc: {epoch_acc:.4f}')\n",
        "\n",
        "            # deep copy the model\n",
        "            if phase == 'eval' and epoch_acc > best_acc:\n",
        "                best_acc = epoch_acc\n",
        "                best_model_wts = copy.deepcopy(model.state_dict())\n",
        "\n",
        "        print()\n",
        "\n",
        "    time_elapsed = time.time() - since\n",
        "    print(f'Training complete in {time_elapsed // 60:.0f}m {time_elapsed % 60:.0f}s')\n",
        "    print(f'Best val Acc: {best_acc:4f}')\n",
        "\n",
        "    # load best model weights\n",
        "    model.load_state_dict(best_model_wts)\n",
        "    return model, {\"train_losses\": train_loss_per_epoch, \n",
        "                   \"test_losses\": eval_loss_per_epoch,\n",
        "                   \"train_accuracies\": train_acc_per_epoch,\n",
        "                   \"eval_accuracies\": eval_acc_per_epoch\n",
        "                   }"
      ]
    },
    {
      "cell_type": "code",
      "execution_count": 66,
      "id": "60748e86-c737-434b-8c58-aa3250a0fae3",
      "metadata": {
        "id": "60748e86-c737-434b-8c58-aa3250a0fae3"
      },
      "outputs": [],
      "source": [
        "model_ft = models.resnet18(weights='IMAGENET1K_V1')\n",
        "num_ftrs = model_ft.fc.in_features\n",
        "# Here the size of each output sample is set to 2.\n",
        "# Alternatively, it can be generalized to ``nn.Linear(num_ftrs, len(class_names))``.\n",
        "model_ft.fc = nn.Linear(num_ftrs, 2)\n",
        "\n",
        "model_ft = model_ft.to(device)\n",
        "\n",
        "criterion = nn.CrossEntropyLoss()\n",
        "\n",
        "# Observe that all parameters are being optimized\n",
        "optimizer_ft = optim.SGD(model_ft.parameters(), lr=0.001, momentum=0.9)\n",
        "\n",
        "# Decay LR by a factor of 0.1 every 7 epochs\n",
        "exp_lr_scheduler = lr_scheduler.StepLR(optimizer_ft, step_size=7, gamma=0.1)"
      ]
    },
    {
      "cell_type": "code",
      "source": [
        "device"
      ],
      "metadata": {
        "colab": {
          "base_uri": "https://localhost:8080/"
        },
        "id": "ZzNLLvThDHo4",
        "outputId": "2e1da9e7-431e-4209-e177-8d80717974f2"
      },
      "id": "ZzNLLvThDHo4",
      "execution_count": 67,
      "outputs": [
        {
          "output_type": "execute_result",
          "data": {
            "text/plain": [
              "device(type='cuda', index=0)"
            ]
          },
          "metadata": {},
          "execution_count": 67
        }
      ]
    },
    {
      "cell_type": "code",
      "execution_count": 68,
      "id": "cbeb3a50-31bf-4225-a38b-85fa841cf0d1",
      "metadata": {
        "id": "cbeb3a50-31bf-4225-a38b-85fa841cf0d1",
        "colab": {
          "base_uri": "https://localhost:8080/"
        },
        "outputId": "08b8f5a8-4dbc-45d2-abc0-baf73b598b5c"
      },
      "outputs": [
        {
          "output_type": "stream",
          "name": "stdout",
          "text": [
            "Epoch 0/19\n",
            "----------\n",
            "train Loss: 0.8379 Acc: 0.5698\n",
            "eval Loss: 0.7174 Acc: 0.5104\n",
            "\n",
            "Epoch 1/19\n",
            "----------\n",
            "train Loss: 0.7186 Acc: 0.6016\n",
            "eval Loss: 0.6572 Acc: 0.6455\n",
            "\n",
            "Epoch 2/19\n",
            "----------\n",
            "train Loss: 0.7006 Acc: 0.6111\n",
            "eval Loss: 0.6615 Acc: 0.6257\n",
            "\n",
            "Epoch 3/19\n",
            "----------\n",
            "train Loss: 0.6910 Acc: 0.6142\n",
            "eval Loss: 0.6979 Acc: 0.6439\n",
            "\n",
            "Epoch 4/19\n",
            "----------\n",
            "train Loss: 0.6741 Acc: 0.6260\n",
            "eval Loss: 0.6712 Acc: 0.6521\n",
            "\n",
            "Epoch 5/19\n",
            "----------\n",
            "train Loss: 0.6755 Acc: 0.6247\n",
            "eval Loss: 0.6377 Acc: 0.6588\n",
            "\n",
            "Epoch 6/19\n",
            "----------\n",
            "train Loss: 0.6686 Acc: 0.6263\n",
            "eval Loss: 0.6458 Acc: 0.6411\n",
            "\n",
            "Epoch 7/19\n",
            "----------\n",
            "train Loss: 0.6393 Acc: 0.6530\n",
            "eval Loss: 0.6303 Acc: 0.6630\n",
            "\n",
            "Epoch 8/19\n",
            "----------\n",
            "train Loss: 0.6390 Acc: 0.6507\n",
            "eval Loss: 0.6386 Acc: 0.6607\n",
            "\n",
            "Epoch 9/19\n",
            "----------\n",
            "train Loss: 0.6347 Acc: 0.6578\n",
            "eval Loss: 0.6354 Acc: 0.6634\n",
            "\n",
            "Epoch 10/19\n",
            "----------\n",
            "train Loss: 0.6341 Acc: 0.6587\n",
            "eval Loss: 0.6421 Acc: 0.6583\n",
            "\n",
            "Epoch 11/19\n",
            "----------\n",
            "train Loss: 0.6331 Acc: 0.6594\n",
            "eval Loss: 0.6272 Acc: 0.6639\n",
            "\n",
            "Epoch 12/19\n",
            "----------\n",
            "train Loss: 0.6337 Acc: 0.6576\n",
            "eval Loss: 0.6234 Acc: 0.6678\n",
            "\n",
            "Epoch 13/19\n",
            "----------\n",
            "train Loss: 0.6344 Acc: 0.6559\n",
            "eval Loss: 0.6173 Acc: 0.6720\n",
            "\n",
            "Epoch 14/19\n",
            "----------\n",
            "train Loss: 0.6289 Acc: 0.6624\n",
            "eval Loss: 0.6169 Acc: 0.6697\n",
            "\n",
            "Epoch 15/19\n",
            "----------\n",
            "train Loss: 0.6295 Acc: 0.6596\n",
            "eval Loss: 0.6220 Acc: 0.6685\n",
            "\n",
            "Epoch 16/19\n",
            "----------\n",
            "train Loss: 0.6279 Acc: 0.6624\n",
            "eval Loss: 0.6253 Acc: 0.6697\n",
            "\n",
            "Epoch 17/19\n",
            "----------\n",
            "train Loss: 0.6297 Acc: 0.6617\n",
            "eval Loss: 0.6217 Acc: 0.6686\n",
            "\n",
            "Epoch 18/19\n",
            "----------\n",
            "train Loss: 0.6303 Acc: 0.6619\n",
            "eval Loss: 0.6221 Acc: 0.6718\n",
            "\n",
            "Epoch 19/19\n",
            "----------\n",
            "train Loss: 0.6261 Acc: 0.6626\n",
            "eval Loss: 0.6175 Acc: 0.6700\n",
            "\n",
            "Training complete in 46m 24s\n",
            "Best val Acc: 0.672048\n",
            "{'train_losses': [0.8378587017180034, 0.7185671639743066, 0.7006370623087, 0.6910241164957159, 0.6741008267575718, 0.6755293594577136, 0.6686075033162131, 0.6393027293802909, 0.6390367304972537, 0.6346590471750944, 0.6341406968357483, 0.6331265978365891, 0.6337438616484593, 0.634378069601277, 0.6288583653520475, 0.6295346915511177, 0.6278542980618447, 0.6296825431131007, 0.6303081947018621, 0.6261240330867376], 'test_losses': [0.7174013494995723, 0.6571713373075531, 0.6615399996570729, 0.6978588148077057, 0.6711742162016128, 0.637704769536175, 0.6457576219298888, 0.6302652476658778, 0.6385800142895633, 0.6354402702722295, 0.6421354471084899, 0.6271654008807592, 0.623437797702935, 0.6173080711566472, 0.6168943388743584, 0.6219512342620003, 0.6253251989734024, 0.6217427474272973, 0.6220892845193592, 0.6175460426798413], 'train_accuracies': [0.5697619608767381, 0.601579071411737, 0.6111242045722366, 0.6141880744756069, 0.6259721894885695, 0.6246759368371435, 0.6263257129389583, 0.6529578128682536, 0.6507188310157908, 0.6577893000235683, 0.6587320292246053, 0.659439076125383, 0.657553617723309, 0.6559038416214943, 0.6623851048786237, 0.6595569172755127, 0.6623851048786237, 0.6616780579778458, 0.6619137402781051, 0.6626207871788828], 'eval_accuracies': [0.5103700212114071, 0.6455338204100872, 0.6257365071883102, 0.6438840443082725, 0.6521329248173462, 0.6588498703747349, 0.6410558567051615, 0.6629743106292718, 0.6607353287768089, 0.6634456752297903, 0.6582606646240867, 0.6639170398303088, 0.6678057977845864, 0.6720480791892529, 0.6696912561866604, 0.6685128446853642, 0.6696912561866604, 0.6686306858354938, 0.6718123968889936, 0.6700447796370493]}\n",
            "CPU times: user 20min 1s, sys: 1min 37s, total: 21min 38s\n",
            "Wall time: 46min 24s\n"
          ]
        }
      ],
      "source": [
        "%%time\n",
        "\n",
        "try:\n",
        "    model_ft, metrics = train_model(model_ft, criterion, optimizer_ft, exp_lr_scheduler,\n",
        "                       num_epochs=20)\n",
        "except Exception as e:\n",
        "    raise Exception(e)\n",
        "finally:\n",
        "    print(metrics)"
      ]
    },
    {
      "cell_type": "code",
      "execution_count": 74,
      "id": "94ed4a87-a5fd-4b85-a143-93cc203293a4",
      "metadata": {
        "id": "94ed4a87-a5fd-4b85-a143-93cc203293a4"
      },
      "outputs": [],
      "source": [
        "def visualize_model(model, mean, std, num_images=6):\n",
        "    was_training = model.training\n",
        "    model.eval()\n",
        "    images_so_far = 0\n",
        "    fig = plt.figure()\n",
        "\n",
        "    with torch.no_grad():\n",
        "        for i, (inputs, labels) in enumerate(dataloaders['eval']):\n",
        "            inputs = inputs.to(device)\n",
        "            labels = labels.to(device)\n",
        "\n",
        "            outputs = model(inputs)\n",
        "            _, preds = torch.max(outputs, 1)\n",
        "\n",
        "            for j in range(inputs.size()[0]):\n",
        "                images_so_far += 1\n",
        "                ax = plt.subplot(num_images//2, 2, images_so_far)\n",
        "                ax.axis('off')\n",
        "                ax.set_title(f'predicted: {class_names[preds[j]]}')\n",
        "                imshow(inputs.cpu().data[j], mean=mean, std=std)\n",
        "                if images_so_far == num_images:\n",
        "                    model.train(mode=was_training)\n",
        "                    return\n",
        "        model.train(mode=was_training)"
      ]
    },
    {
      "cell_type": "code",
      "execution_count": 77,
      "id": "7a85cb29-310c-4575-bd34-492b42df6024",
      "metadata": {
        "id": "7a85cb29-310c-4575-bd34-492b42df6024",
        "colab": {
          "base_uri": "https://localhost:8080/",
          "height": 923
        },
        "outputId": "da2380ab-e804-43e2-fca5-e199485703f5"
      },
      "outputs": [
        {
          "output_type": "display_data",
          "data": {
            "text/plain": [
              "<Figure size 640x480 with 1 Axes>"
            ],
            "image/png": "[encoded data removed]"
          },
          "metadata": {}
        },
        {
          "output_type": "display_data",
          "data": {
            "text/plain": [
              "<Figure size 640x480 with 1 Axes>"
            ],
            "image/png": "[encoded data removed]"
          },
          "metadata": {}
        },
        {
          "output_type": "display_data",
          "data": {
            "text/plain": [
              "<Figure size 640x480 with 1 Axes>"
            ],
            "image/png": "[encoded data removed]"
          },
          "metadata": {}
        },
        {
          "output_type": "display_data",
          "data": {
            "text/plain": [
              "<Figure size 640x480 with 1 Axes>"
            ],
            "image/png": "[encoded data removed]"
          },
          "metadata": {}
        },
        {
          "output_type": "display_data",
          "data": {
            "text/plain": [
              "<Figure size 640x480 with 1 Axes>"
            ],
            "image/png": "[encoded data removed]"
          },
          "metadata": {}
        },
        {
          "output_type": "display_data",
          "data": {
            "text/plain": [
              "<Figure size 640x480 with 1 Axes>"
            ],
            "image/png": "[encoded data removed]"
          },
          "metadata": {}
        }
      ],
      "source": [
        "visualize_model(model_ft, mean=mean, std=std)"
      ]
    },
    {
      "cell_type": "code",
      "source": [],
      "metadata": {
        "id": "7g4iPUQlY04y"
      },
      "id": "7g4iPUQlY04y",
      "execution_count": null,
      "outputs": []
    }
  ],
  "metadata": {
    "environment": {
      "kernel": "python3",
      "name": "tf2-gpu.2-11.m108",
      "type": "gcloud",
      "uri": "gcr.io/deeplearning-platform-release/tf2-gpu.2-11:m108"
    },
    "kernelspec": {
      "display_name": "Python 3 (ipykernel)",
      "language": "python",
      "name": "python3"
    },
    "language_info": {
      "codemirror_mode": {
        "name": "ipython",
        "version": 3
      },
      "file_extension": ".py",
      "mimetype": "text/x-python",
      "name": "python",
      "nbconvert_exporter": "python",
      "pygments_lexer": "ipython3",
      "version": "3.10.10"
    },
    "colab": {
      "provenance": [],
      "gpuType": "T4",
      "machine_shape": "hm",
      "collapsed_sections": [
        "aYgbzRPz9quL"
      ]
    },
    "gpuClass": "standard",
    "widgets": {
      "application/vnd.jupyter.widget-state+json": {
        "38eb7905cf044455b7b9d3ba743580a9": {
          "model_module": "@jupyter-widgets/controls",
          "model_name": "VBoxModel",
          "model_module_version": "1.5.0",
          "state": {
            "_dom_classes": [],
            "_model_module": "@jupyter-widgets/controls",
            "_model_module_version": "1.5.0",
            "_model_name": "VBoxModel",
            "_view_count": null,
            "_view_module": "@jupyter-widgets/controls",
            "_view_module_version": "1.5.0",
            "_view_name": "VBoxView",
            "box_style": "",
            "children": [
              "IPY_MODEL_d0fe201d723a42c9979c64656299261c",
              "IPY_MODEL_076b5c622197406aa2c0c62d4dab4368",
              "IPY_MODEL_755da063b3fd45088378f8cf4e519c59",
              "IPY_MODEL_7246415786b24d999687e86b690d1118"
            ],
            "layout": "IPY_MODEL_7d5a6d15218f4b76837589e9a6d92779"
          }
        },
        "d0fe201d723a42c9979c64656299261c": {
          "model_module": "@jupyter-widgets/controls",
          "model_name": "HBoxModel",
          "model_module_version": "1.5.0",
          "state": {
            "_dom_classes": [],
            "_model_module": "@jupyter-widgets/controls",
            "_model_module_version": "1.5.0",
            "_model_name": "HBoxModel",
            "_view_count": null,
            "_view_module": "@jupyter-widgets/controls",
            "_view_module_version": "1.5.0",
            "_view_name": "HBoxView",
            "box_style": "",
            "children": [
              "IPY_MODEL_563753a8b4474167b88433142b55c221",
              "IPY_MODEL_1357c96da7a443d9beb8580c58f81795"
            ],
            "layout": "IPY_MODEL_ca007003fd92408190eab86a719a7569"
          }
        },
        "076b5c622197406aa2c0c62d4dab4368": {
          "model_module": "@jupyter-widgets/controls",
          "model_name": "HBoxModel",
          "model_module_version": "1.5.0",
          "state": {
            "_dom_classes": [],
            "_model_module": "@jupyter-widgets/controls",
            "_model_module_version": "1.5.0",
            "_model_name": "HBoxModel",
            "_view_count": null,
            "_view_module": "@jupyter-widgets/controls",
            "_view_module_version": "1.5.0",
            "_view_name": "HBoxView",
            "box_style": "",
            "children": [
              "IPY_MODEL_ccf72b2d04794201bfc522819010523a",
              "IPY_MODEL_fd6817d3e6384edcb02e2d95b7c734e4"
            ],
            "layout": "IPY_MODEL_1a2981b5933049409515dfb95433cb16"
          }
        },
        "755da063b3fd45088378f8cf4e519c59": {
          "model_module": "@jupyter-widgets/controls",
          "model_name": "HBoxModel",
          "model_module_version": "1.5.0",
          "state": {
            "_dom_classes": [],
            "_model_module": "@jupyter-widgets/controls",
            "_model_module_version": "1.5.0",
            "_model_name": "HBoxModel",
            "_view_count": null,
            "_view_module": "@jupyter-widgets/controls",
            "_view_module_version": "1.5.0",
            "_view_name": "HBoxView",
            "box_style": "",
            "children": [
              "IPY_MODEL_a4a46472e4af462aa9c2daca908d75db",
              "IPY_MODEL_8bd0b8e942a148a49ad2b03a54630900"
            ],
            "layout": "IPY_MODEL_23a65d7cc4444e93aacaaaac5045d7fa"
          }
        },
        "7246415786b24d999687e86b690d1118": {
          "model_module": "@jupyter-widgets/controls",
          "model_name": "HBoxModel",
          "model_module_version": "1.5.0",
          "state": {
            "_dom_classes": [],
            "_model_module": "@jupyter-widgets/controls",
            "_model_module_version": "1.5.0",
            "_model_name": "HBoxModel",
            "_view_count": null,
            "_view_module": "@jupyter-widgets/controls",
            "_view_module_version": "1.5.0",
            "_view_name": "HBoxView",
            "box_style": "",
            "children": [
              "IPY_MODEL_84410f0d78aa42ce92b221b0a2ee3cc5",
              "IPY_MODEL_baf94575359e4bb2a0748492f19609a1"
            ],
            "layout": "IPY_MODEL_ca20bc67de8a447cadab9e69485df417"
          }
        },
        "7d5a6d15218f4b76837589e9a6d92779": {
          "model_module": "@jupyter-widgets/base",
          "model_name": "LayoutModel",
          "model_module_version": "1.2.0",
          "state": {
            "_model_module": "@jupyter-widgets/base",
            "_model_module_version": "1.2.0",
            "_model_name": "LayoutModel",
            "_view_count": null,
            "_view_module": "@jupyter-widgets/base",
            "_view_module_version": "1.2.0",
            "_view_name": "LayoutView",
            "align_content": null,
            "align_items": null,
            "align_self": null,
            "border": null,
            "bottom": null,
            "display": null,
            "flex": null,
            "flex_flow": null,
            "grid_area": null,
            "grid_auto_columns": null,
            "grid_auto_flow": null,
            "grid_auto_rows": null,
            "grid_column": null,
            "grid_gap": null,
            "grid_row": null,
            "grid_template_areas": null,
            "grid_template_columns": null,
            "grid_template_rows": null,
            "height": null,
            "justify_content": null,
            "justify_items": null,
            "left": null,
            "margin": null,
            "max_height": null,
            "max_width": null,
            "min_height": null,
            "min_width": null,
            "object_fit": null,
            "object_position": null,
            "order": null,
            "overflow": null,
            "overflow_x": null,
            "overflow_y": null,
            "padding": null,
            "right": null,
            "top": null,
            "visibility": null,
            "width": null
          }
        },
        "563753a8b4474167b88433142b55c221": {
          "model_module": "@jupyter-widgets/controls",
          "model_name": "IntProgressModel",
          "model_module_version": "1.5.0",
          "state": {
            "_dom_classes": [],
            "_model_module": "@jupyter-widgets/controls",
            "_model_module_version": "1.5.0",
            "_model_name": "IntProgressModel",
            "_view_count": null,
            "_view_module": "@jupyter-widgets/controls",
            "_view_module_version": "1.5.0",
            "_view_name": "ProgressView",
            "bar_style": "success",
            "description": "100.00%",
            "description_tooltip": null,
            "layout": "IPY_MODEL_5a83c90649a34c06b67ff9c7e40d2000",
            "max": 2500,
            "min": 0,
            "orientation": "horizontal",
            "style": "IPY_MODEL_fd85a7496e314f399057f7a6404cbf7c",
            "value": 2500
          }
        },
        "1357c96da7a443d9beb8580c58f81795": {
          "model_module": "@jupyter-widgets/controls",
          "model_name": "LabelModel",
          "model_module_version": "1.5.0",
          "state": {
            "_dom_classes": [],
            "_model_module": "@jupyter-widgets/controls",
            "_model_module_version": "1.5.0",
            "_model_name": "LabelModel",
            "_view_count": null,
            "_view_module": "@jupyter-widgets/controls",
            "_view_module_version": "1.5.0",
            "_view_name": "LabelView",
            "description": "",
            "description_tooltip": null,
            "layout": "IPY_MODEL_a2ba4dc77a4a47b489494fddadbdbc5f",
            "placeholder": "​",
            "style": "IPY_MODEL_30f7ea8d37b246e291cfbf819f7a68ee",
            "value": "2500 / 2500"
          }
        },
        "ca007003fd92408190eab86a719a7569": {
          "model_module": "@jupyter-widgets/base",
          "model_name": "LayoutModel",
          "model_module_version": "1.2.0",
          "state": {
            "_model_module": "@jupyter-widgets/base",
            "_model_module_version": "1.2.0",
            "_model_name": "LayoutModel",
            "_view_count": null,
            "_view_module": "@jupyter-widgets/base",
            "_view_module_version": "1.2.0",
            "_view_name": "LayoutView",
            "align_content": null,
            "align_items": null,
            "align_self": null,
            "border": null,
            "bottom": null,
            "display": null,
            "flex": null,
            "flex_flow": null,
            "grid_area": null,
            "grid_auto_columns": null,
            "grid_auto_flow": null,
            "grid_auto_rows": null,
            "grid_column": null,
            "grid_gap": null,
            "grid_row": null,
            "grid_template_areas": null,
            "grid_template_columns": null,
            "grid_template_rows": null,
            "height": null,
            "justify_content": null,
            "justify_items": null,
            "left": null,
            "margin": null,
            "max_height": null,
            "max_width": null,
            "min_height": null,
            "min_width": null,
            "object_fit": null,
            "object_position": null,
            "order": null,
            "overflow": null,
            "overflow_x": null,
            "overflow_y": null,
            "padding": null,
            "right": null,
            "top": null,
            "visibility": null,
            "width": null
          }
        },
        "ccf72b2d04794201bfc522819010523a": {
          "model_module": "@jupyter-widgets/controls",
          "model_name": "IntProgressModel",
          "model_module_version": "1.5.0",
          "state": {
            "_dom_classes": [],
            "_model_module": "@jupyter-widgets/controls",
            "_model_module_version": "1.5.0",
            "_model_name": "IntProgressModel",
            "_view_count": null,
            "_view_module": "@jupyter-widgets/controls",
            "_view_module_version": "1.5.0",
            "_view_name": "ProgressView",
            "bar_style": "success",
            "description": "100.00%",
            "description_tooltip": null,
            "layout": "IPY_MODEL_ffb5a609573a4e6a89432c82aed2af6f",
            "max": 2500,
            "min": 0,
            "orientation": "horizontal",
            "style": "IPY_MODEL_bcdbb245e1c545fc8b0a66a5390ac522",
            "value": 2500
          }
        },
        "fd6817d3e6384edcb02e2d95b7c734e4": {
          "model_module": "@jupyter-widgets/controls",
          "model_name": "LabelModel",
          "model_module_version": "1.5.0",
          "state": {
            "_dom_classes": [],
            "_model_module": "@jupyter-widgets/controls",
            "_model_module_version": "1.5.0",
            "_model_name": "LabelModel",
            "_view_count": null,
            "_view_module": "@jupyter-widgets/controls",
            "_view_module_version": "1.5.0",
            "_view_name": "LabelView",
            "description": "",
            "description_tooltip": null,
            "layout": "IPY_MODEL_686596e9242d460e813264a1bdb8fd52",
            "placeholder": "​",
            "style": "IPY_MODEL_bdf7c76a98db48928724544134583165",
            "value": "2500 / 2500"
          }
        },
        "1a2981b5933049409515dfb95433cb16": {
          "model_module": "@jupyter-widgets/base",
          "model_name": "LayoutModel",
          "model_module_version": "1.2.0",
          "state": {
            "_model_module": "@jupyter-widgets/base",
            "_model_module_version": "1.2.0",
            "_model_name": "LayoutModel",
            "_view_count": null,
            "_view_module": "@jupyter-widgets/base",
            "_view_module_version": "1.2.0",
            "_view_name": "LayoutView",
            "align_content": null,
            "align_items": null,
            "align_self": null,
            "border": null,
            "bottom": null,
            "display": null,
            "flex": null,
            "flex_flow": null,
            "grid_area": null,
            "grid_auto_columns": null,
            "grid_auto_flow": null,
            "grid_auto_rows": null,
            "grid_column": null,
            "grid_gap": null,
            "grid_row": null,
            "grid_template_areas": null,
            "grid_template_columns": null,
            "grid_template_rows": null,
            "height": null,
            "justify_content": null,
            "justify_items": null,
            "left": null,
            "margin": null,
            "max_height": null,
            "max_width": null,
            "min_height": null,
            "min_width": null,
            "object_fit": null,
            "object_position": null,
            "order": null,
            "overflow": null,
            "overflow_x": null,
            "overflow_y": null,
            "padding": null,
            "right": null,
            "top": null,
            "visibility": null,
            "width": null
          }
        },
        "a4a46472e4af462aa9c2daca908d75db": {
          "model_module": "@jupyter-widgets/controls",
          "model_name": "IntProgressModel",
          "model_module_version": "1.5.0",
          "state": {
            "_dom_classes": [],
            "_model_module": "@jupyter-widgets/controls",
            "_model_module_version": "1.5.0",
            "_model_name": "IntProgressModel",
            "_view_count": null,
            "_view_module": "@jupyter-widgets/controls",
            "_view_module_version": "1.5.0",
            "_view_name": "ProgressView",
            "bar_style": "success",
            "description": "100.00%",
            "description_tooltip": null,
            "layout": "IPY_MODEL_af4b8b84898441f68050988878e06a62",
            "max": 2500,
            "min": 0,
            "orientation": "horizontal",
            "style": "IPY_MODEL_142046734fd94c83bc45a1f7e62b382d",
            "value": 2500
          }
        },
        "8bd0b8e942a148a49ad2b03a54630900": {
          "model_module": "@jupyter-widgets/controls",
          "model_name": "LabelModel",
          "model_module_version": "1.5.0",
          "state": {
            "_dom_classes": [],
            "_model_module": "@jupyter-widgets/controls",
            "_model_module_version": "1.5.0",
            "_model_name": "LabelModel",
            "_view_count": null,
            "_view_module": "@jupyter-widgets/controls",
            "_view_module_version": "1.5.0",
            "_view_name": "LabelView",
            "description": "",
            "description_tooltip": null,
            "layout": "IPY_MODEL_f0786e8b00be453a8d931c92d5cc4a42",
            "placeholder": "​",
            "style": "IPY_MODEL_71133f1fc3ca4f559553195bbd5b9b49",
            "value": "2500 / 2500"
          }
        },
        "23a65d7cc4444e93aacaaaac5045d7fa": {
          "model_module": "@jupyter-widgets/base",
          "model_name": "LayoutModel",
          "model_module_version": "1.2.0",
          "state": {
            "_model_module": "@jupyter-widgets/base",
            "_model_module_version": "1.2.0",
            "_model_name": "LayoutModel",
            "_view_count": null,
            "_view_module": "@jupyter-widgets/base",
            "_view_module_version": "1.2.0",
            "_view_name": "LayoutView",
            "align_content": null,
            "align_items": null,
            "align_self": null,
            "border": null,
            "bottom": null,
            "display": null,
            "flex": null,
            "flex_flow": null,
            "grid_area": null,
            "grid_auto_columns": null,
            "grid_auto_flow": null,
            "grid_auto_rows": null,
            "grid_column": null,
            "grid_gap": null,
            "grid_row": null,
            "grid_template_areas": null,
            "grid_template_columns": null,
            "grid_template_rows": null,
            "height": null,
            "justify_content": null,
            "justify_items": null,
            "left": null,
            "margin": null,
            "max_height": null,
            "max_width": null,
            "min_height": null,
            "min_width": null,
            "object_fit": null,
            "object_position": null,
            "order": null,
            "overflow": null,
            "overflow_x": null,
            "overflow_y": null,
            "padding": null,
            "right": null,
            "top": null,
            "visibility": null,
            "width": null
          }
        },
        "84410f0d78aa42ce92b221b0a2ee3cc5": {
          "model_module": "@jupyter-widgets/controls",
          "model_name": "IntProgressModel",
          "model_module_version": "1.5.0",
          "state": {
            "_dom_classes": [],
            "_model_module": "@jupyter-widgets/controls",
            "_model_module_version": "1.5.0",
            "_model_name": "IntProgressModel",
            "_view_count": null,
            "_view_module": "@jupyter-widgets/controls",
            "_view_module_version": "1.5.0",
            "_view_name": "ProgressView",
            "bar_style": "success",
            "description": "100.00%",
            "description_tooltip": null,
            "layout": "IPY_MODEL_e8ba6a280e58497299be2988d0308eb2",
            "max": 2500,
            "min": 0,
            "orientation": "horizontal",
            "style": "IPY_MODEL_ba6711ddf52f4b118786fbcc4be11177",
            "value": 2500
          }
        },
        "baf94575359e4bb2a0748492f19609a1": {
          "model_module": "@jupyter-widgets/controls",
          "model_name": "LabelModel",
          "model_module_version": "1.5.0",
          "state": {
            "_dom_classes": [],
            "_model_module": "@jupyter-widgets/controls",
            "_model_module_version": "1.5.0",
            "_model_name": "LabelModel",
            "_view_count": null,
            "_view_module": "@jupyter-widgets/controls",
            "_view_module_version": "1.5.0",
            "_view_name": "LabelView",
            "description": "",
            "description_tooltip": null,
            "layout": "IPY_MODEL_4ab76b4f79d34a728d26fcef6cd5c4e5",
            "placeholder": "​",
            "style": "IPY_MODEL_7adea03dc90941839d66147dbeaf00af",
            "value": "2500 / 2500"
          }
        },
        "ca20bc67de8a447cadab9e69485df417": {
          "model_module": "@jupyter-widgets/base",
          "model_name": "LayoutModel",
          "model_module_version": "1.2.0",
          "state": {
            "_model_module": "@jupyter-widgets/base",
            "_model_module_version": "1.2.0",
            "_model_name": "LayoutModel",
            "_view_count": null,
            "_view_module": "@jupyter-widgets/base",
            "_view_module_version": "1.2.0",
            "_view_name": "LayoutView",
            "align_content": null,
            "align_items": null,
            "align_self": null,
            "border": null,
            "bottom": null,
            "display": null,
            "flex": null,
            "flex_flow": null,
            "grid_area": null,
            "grid_auto_columns": null,
            "grid_auto_flow": null,
            "grid_auto_rows": null,
            "grid_column": null,
            "grid_gap": null,
            "grid_row": null,
            "grid_template_areas": null,
            "grid_template_columns": null,
            "grid_template_rows": null,
            "height": null,
            "justify_content": null,
            "justify_items": null,
            "left": null,
            "margin": null,
            "max_height": null,
            "max_width": null,
            "min_height": null,
            "min_width": null,
            "object_fit": null,
            "object_position": null,
            "order": null,
            "overflow": null,
            "overflow_x": null,
            "overflow_y": null,
            "padding": null,
            "right": null,
            "top": null,
            "visibility": null,
            "width": null
          }
        },
        "5a83c90649a34c06b67ff9c7e40d2000": {
          "model_module": "@jupyter-widgets/base",
          "model_name": "LayoutModel",
          "model_module_version": "1.2.0",
          "state": {
            "_model_module": "@jupyter-widgets/base",
            "_model_module_version": "1.2.0",
            "_model_name": "LayoutModel",
            "_view_count": null,
            "_view_module": "@jupyter-widgets/base",
            "_view_module_version": "1.2.0",
            "_view_name": "LayoutView",
            "align_content": null,
            "align_items": null,
            "align_self": null,
            "border": null,
            "bottom": null,
            "display": null,
            "flex": null,
            "flex_flow": null,
            "grid_area": null,
            "grid_auto_columns": null,
            "grid_auto_flow": null,
            "grid_auto_rows": null,
            "grid_column": null,
            "grid_gap": null,
            "grid_row": null,
            "grid_template_areas": null,
            "grid_template_columns": null,
            "grid_template_rows": null,
            "height": null,
            "justify_content": null,
            "justify_items": null,
            "left": null,
            "margin": null,
            "max_height": null,
            "max_width": null,
            "min_height": null,
            "min_width": null,
            "object_fit": null,
            "object_position": null,
            "order": null,
            "overflow": null,
            "overflow_x": null,
            "overflow_y": null,
            "padding": null,
            "right": null,
            "top": null,
            "visibility": null,
            "width": null
          }
        },
        "fd85a7496e314f399057f7a6404cbf7c": {
          "model_module": "@jupyter-widgets/controls",
          "model_name": "ProgressStyleModel",
          "model_module_version": "1.5.0",
          "state": {
            "_model_module": "@jupyter-widgets/controls",
            "_model_module_version": "1.5.0",
            "_model_name": "ProgressStyleModel",
            "_view_count": null,
            "_view_module": "@jupyter-widgets/base",
            "_view_module_version": "1.2.0",
            "_view_name": "StyleView",
            "bar_color": null,
            "description_width": ""
          }
        },
        "a2ba4dc77a4a47b489494fddadbdbc5f": {
          "model_module": "@jupyter-widgets/base",
          "model_name": "LayoutModel",
          "model_module_version": "1.2.0",
          "state": {
            "_model_module": "@jupyter-widgets/base",
            "_model_module_version": "1.2.0",
            "_model_name": "LayoutModel",
            "_view_count": null,
            "_view_module": "@jupyter-widgets/base",
            "_view_module_version": "1.2.0",
            "_view_name": "LayoutView",
            "align_content": null,
            "align_items": null,
            "align_self": null,
            "border": null,
            "bottom": null,
            "display": null,
            "flex": null,
            "flex_flow": null,
            "grid_area": null,
            "grid_auto_columns": null,
            "grid_auto_flow": null,
            "grid_auto_rows": null,
            "grid_column": null,
            "grid_gap": null,
            "grid_row": null,
            "grid_template_areas": null,
            "grid_template_columns": null,
            "grid_template_rows": null,
            "height": null,
            "justify_content": null,
            "justify_items": null,
            "left": null,
            "margin": null,
            "max_height": null,
            "max_width": null,
            "min_height": null,
            "min_width": null,
            "object_fit": null,
            "object_position": null,
            "order": null,
            "overflow": null,
            "overflow_x": null,
            "overflow_y": null,
            "padding": null,
            "right": null,
            "top": null,
            "visibility": null,
            "width": null
          }
        },
        "30f7ea8d37b246e291cfbf819f7a68ee": {
          "model_module": "@jupyter-widgets/controls",
          "model_name": "DescriptionStyleModel",
          "model_module_version": "1.5.0",
          "state": {
            "_model_module": "@jupyter-widgets/controls",
            "_model_module_version": "1.5.0",
            "_model_name": "DescriptionStyleModel",
            "_view_count": null,
            "_view_module": "@jupyter-widgets/base",
            "_view_module_version": "1.2.0",
            "_view_name": "StyleView",
            "description_width": ""
          }
        },
        "ffb5a609573a4e6a89432c82aed2af6f": {
          "model_module": "@jupyter-widgets/base",
          "model_name": "LayoutModel",
          "model_module_version": "1.2.0",
          "state": {
            "_model_module": "@jupyter-widgets/base",
            "_model_module_version": "1.2.0",
            "_model_name": "LayoutModel",
            "_view_count": null,
            "_view_module": "@jupyter-widgets/base",
            "_view_module_version": "1.2.0",
            "_view_name": "LayoutView",
            "align_content": null,
            "align_items": null,
            "align_self": null,
            "border": null,
            "bottom": null,
            "display": null,
            "flex": null,
            "flex_flow": null,
            "grid_area": null,
            "grid_auto_columns": null,
            "grid_auto_flow": null,
            "grid_auto_rows": null,
            "grid_column": null,
            "grid_gap": null,
            "grid_row": null,
            "grid_template_areas": null,
            "grid_template_columns": null,
            "grid_template_rows": null,
            "height": null,
            "justify_content": null,
            "justify_items": null,
            "left": null,
            "margin": null,
            "max_height": null,
            "max_width": null,
            "min_height": null,
            "min_width": null,
            "object_fit": null,
            "object_position": null,
            "order": null,
            "overflow": null,
            "overflow_x": null,
            "overflow_y": null,
            "padding": null,
            "right": null,
            "top": null,
            "visibility": null,
            "width": null
          }
        },
        "bcdbb245e1c545fc8b0a66a5390ac522": {
          "model_module": "@jupyter-widgets/controls",
          "model_name": "ProgressStyleModel",
          "model_module_version": "1.5.0",
          "state": {
            "_model_module": "@jupyter-widgets/controls",
            "_model_module_version": "1.5.0",
            "_model_name": "ProgressStyleModel",
            "_view_count": null,
            "_view_module": "@jupyter-widgets/base",
            "_view_module_version": "1.2.0",
            "_view_name": "StyleView",
            "bar_color": null,
            "description_width": ""
          }
        },
        "686596e9242d460e813264a1bdb8fd52": {
          "model_module": "@jupyter-widgets/base",
          "model_name": "LayoutModel",
          "model_module_version": "1.2.0",
          "state": {
            "_model_module": "@jupyter-widgets/base",
            "_model_module_version": "1.2.0",
            "_model_name": "LayoutModel",
            "_view_count": null,
            "_view_module": "@jupyter-widgets/base",
            "_view_module_version": "1.2.0",
            "_view_name": "LayoutView",
            "align_content": null,
            "align_items": null,
            "align_self": null,
            "border": null,
            "bottom": null,
            "display": null,
            "flex": null,
            "flex_flow": null,
            "grid_area": null,
            "grid_auto_columns": null,
            "grid_auto_flow": null,
            "grid_auto_rows": null,
            "grid_column": null,
            "grid_gap": null,
            "grid_row": null,
            "grid_template_areas": null,
            "grid_template_columns": null,
            "grid_template_rows": null,
            "height": null,
            "justify_content": null,
            "justify_items": null,
            "left": null,
            "margin": null,
            "max_height": null,
            "max_width": null,
            "min_height": null,
            "min_width": null,
            "object_fit": null,
            "object_position": null,
            "order": null,
            "overflow": null,
            "overflow_x": null,
            "overflow_y": null,
            "padding": null,
            "right": null,
            "top": null,
            "visibility": null,
            "width": null
          }
        },
        "bdf7c76a98db48928724544134583165": {
          "model_module": "@jupyter-widgets/controls",
          "model_name": "DescriptionStyleModel",
          "model_module_version": "1.5.0",
          "state": {
            "_model_module": "@jupyter-widgets/controls",
            "_model_module_version": "1.5.0",
            "_model_name": "DescriptionStyleModel",
            "_view_count": null,
            "_view_module": "@jupyter-widgets/base",
            "_view_module_version": "1.2.0",
            "_view_name": "StyleView",
            "description_width": ""
          }
        },
        "af4b8b84898441f68050988878e06a62": {
          "model_module": "@jupyter-widgets/base",
          "model_name": "LayoutModel",
          "model_module_version": "1.2.0",
          "state": {
            "_model_module": "@jupyter-widgets/base",
            "_model_module_version": "1.2.0",
            "_model_name": "LayoutModel",
            "_view_count": null,
            "_view_module": "@jupyter-widgets/base",
            "_view_module_version": "1.2.0",
            "_view_name": "LayoutView",
            "align_content": null,
            "align_items": null,
            "align_self": null,
            "border": null,
            "bottom": null,
            "display": null,
            "flex": null,
            "flex_flow": null,
            "grid_area": null,
            "grid_auto_columns": null,
            "grid_auto_flow": null,
            "grid_auto_rows": null,
            "grid_column": null,
            "grid_gap": null,
            "grid_row": null,
            "grid_template_areas": null,
            "grid_template_columns": null,
            "grid_template_rows": null,
            "height": null,
            "justify_content": null,
            "justify_items": null,
            "left": null,
            "margin": null,
            "max_height": null,
            "max_width": null,
            "min_height": null,
            "min_width": null,
            "object_fit": null,
            "object_position": null,
            "order": null,
            "overflow": null,
            "overflow_x": null,
            "overflow_y": null,
            "padding": null,
            "right": null,
            "top": null,
            "visibility": null,
            "width": null
          }
        },
        "142046734fd94c83bc45a1f7e62b382d": {
          "model_module": "@jupyter-widgets/controls",
          "model_name": "ProgressStyleModel",
          "model_module_version": "1.5.0",
          "state": {
            "_model_module": "@jupyter-widgets/controls",
            "_model_module_version": "1.5.0",
            "_model_name": "ProgressStyleModel",
            "_view_count": null,
            "_view_module": "@jupyter-widgets/base",
            "_view_module_version": "1.2.0",
            "_view_name": "StyleView",
            "bar_color": null,
            "description_width": ""
          }
        },
        "f0786e8b00be453a8d931c92d5cc4a42": {
          "model_module": "@jupyter-widgets/base",
          "model_name": "LayoutModel",
          "model_module_version": "1.2.0",
          "state": {
            "_model_module": "@jupyter-widgets/base",
            "_model_module_version": "1.2.0",
            "_model_name": "LayoutModel",
            "_view_count": null,
            "_view_module": "@jupyter-widgets/base",
            "_view_module_version": "1.2.0",
            "_view_name": "LayoutView",
            "align_content": null,
            "align_items": null,
            "align_self": null,
            "border": null,
            "bottom": null,
            "display": null,
            "flex": null,
            "flex_flow": null,
            "grid_area": null,
            "grid_auto_columns": null,
            "grid_auto_flow": null,
            "grid_auto_rows": null,
            "grid_column": null,
            "grid_gap": null,
            "grid_row": null,
            "grid_template_areas": null,
            "grid_template_columns": null,
            "grid_template_rows": null,
            "height": null,
            "justify_content": null,
            "justify_items": null,
            "left": null,
            "margin": null,
            "max_height": null,
            "max_width": null,
            "min_height": null,
            "min_width": null,
            "object_fit": null,
            "object_position": null,
            "order": null,
            "overflow": null,
            "overflow_x": null,
            "overflow_y": null,
            "padding": null,
            "right": null,
            "top": null,
            "visibility": null,
            "width": null
          }
        },
        "71133f1fc3ca4f559553195bbd5b9b49": {
          "model_module": "@jupyter-widgets/controls",
          "model_name": "DescriptionStyleModel",
          "model_module_version": "1.5.0",
          "state": {
            "_model_module": "@jupyter-widgets/controls",
            "_model_module_version": "1.5.0",
            "_model_name": "DescriptionStyleModel",
            "_view_count": null,
            "_view_module": "@jupyter-widgets/base",
            "_view_module_version": "1.2.0",
            "_view_name": "StyleView",
            "description_width": ""
          }
        },
        "e8ba6a280e58497299be2988d0308eb2": {
          "model_module": "@jupyter-widgets/base",
          "model_name": "LayoutModel",
          "model_module_version": "1.2.0",
          "state": {
            "_model_module": "@jupyter-widgets/base",
            "_model_module_version": "1.2.0",
            "_model_name": "LayoutModel",
            "_view_count": null,
            "_view_module": "@jupyter-widgets/base",
            "_view_module_version": "1.2.0",
            "_view_name": "LayoutView",
            "align_content": null,
            "align_items": null,
            "align_self": null,
            "border": null,
            "bottom": null,
            "display": null,
            "flex": null,
            "flex_flow": null,
            "grid_area": null,
            "grid_auto_columns": null,
            "grid_auto_flow": null,
            "grid_auto_rows": null,
            "grid_column": null,
            "grid_gap": null,
            "grid_row": null,
            "grid_template_areas": null,
            "grid_template_columns": null,
            "grid_template_rows": null,
            "height": null,
            "justify_content": null,
            "justify_items": null,
            "left": null,
            "margin": null,
            "max_height": null,
            "max_width": null,
            "min_height": null,
            "min_width": null,
            "object_fit": null,
            "object_position": null,
            "order": null,
            "overflow": null,
            "overflow_x": null,
            "overflow_y": null,
            "padding": null,
            "right": null,
            "top": null,
            "visibility": null,
            "width": null
          }
        },
        "ba6711ddf52f4b118786fbcc4be11177": {
          "model_module": "@jupyter-widgets/controls",
          "model_name": "ProgressStyleModel",
          "model_module_version": "1.5.0",
          "state": {
            "_model_module": "@jupyter-widgets/controls",
            "_model_module_version": "1.5.0",
            "_model_name": "ProgressStyleModel",
            "_view_count": null,
            "_view_module": "@jupyter-widgets/base",
            "_view_module_version": "1.2.0",
            "_view_name": "StyleView",
            "bar_color": null,
            "description_width": ""
          }
        },
        "4ab76b4f79d34a728d26fcef6cd5c4e5": {
          "model_module": "@jupyter-widgets/base",
          "model_name": "LayoutModel",
          "model_module_version": "1.2.0",
          "state": {
            "_model_module": "@jupyter-widgets/base",
            "_model_module_version": "1.2.0",
            "_model_name": "LayoutModel",
            "_view_count": null,
            "_view_module": "@jupyter-widgets/base",
            "_view_module_version": "1.2.0",
            "_view_name": "LayoutView",
            "align_content": null,
            "align_items": null,
            "align_self": null,
            "border": null,
            "bottom": null,
            "display": null,
            "flex": null,
            "flex_flow": null,
            "grid_area": null,
            "grid_auto_columns": null,
            "grid_auto_flow": null,
            "grid_auto_rows": null,
            "grid_column": null,
            "grid_gap": null,
            "grid_row": null,
            "grid_template_areas": null,
            "grid_template_columns": null,
            "grid_template_rows": null,
            "height": null,
            "justify_content": null,
            "justify_items": null,
            "left": null,
            "margin": null,
            "max_height": null,
            "max_width": null,
            "min_height": null,
            "min_width": null,
            "object_fit": null,
            "object_position": null,
            "order": null,
            "overflow": null,
            "overflow_x": null,
            "overflow_y": null,
            "padding": null,
            "right": null,
            "top": null,
            "visibility": null,
            "width": null
          }
        },
        "7adea03dc90941839d66147dbeaf00af": {
          "model_module": "@jupyter-widgets/controls",
          "model_name": "DescriptionStyleModel",
          "model_module_version": "1.5.0",
          "state": {
            "_model_module": "@jupyter-widgets/controls",
            "_model_module_version": "1.5.0",
            "_model_name": "DescriptionStyleModel",
            "_view_count": null,
            "_view_module": "@jupyter-widgets/base",
            "_view_module_version": "1.2.0",
            "_view_name": "StyleView",
            "description_width": ""
          }
        }
      }
    },
    "accelerator": "GPU"
  },
  "nbformat": 4,
  "nbformat_minor": 5
}