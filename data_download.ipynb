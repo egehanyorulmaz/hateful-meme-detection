{
 "cells": [
  {
   "cell_type": "code",
   "execution_count": 6,
   "metadata": {
    "colab": {
     "base_uri": "https://localhost:8080/"
    },
    "executionInfo": {
     "elapsed": 970,
     "status": "ok",
     "timestamp": 1684097860868,
     "user": {
      "displayName": "Egehan Yorulmaz",
      "userId": "13356995240074227245"
     },
     "user_tz": 300
    },
    "id": "41-SxBF-De8S",
    "outputId": "37ddff84-aa65-4228-e825-bc74df63a1a4"
   },
   "outputs": [
    {
     "name": "stdout",
     "output_type": "stream",
     "text": [
      "Cloning into 'hateful-meme-detection'...\n",
      "remote: Enumerating objects: 4, done.\u001b[K\n",
      "remote: Counting objects: 100% (4/4), done.\u001b[K\n",
      "remote: Compressing objects: 100% (4/4), done.\u001b[K\n",
      "remote: Total 4 (delta 0), reused 0 (delta 0), pack-reused 0\u001b[K\n",
      "Unpacking objects: 100% (4/4), 2.13 KiB | 2.13 MiB/s, done.\n"
     ]
    }
   ],
   "source": [
    "!git clone https://github.com/egehanyorulmaz/hateful-meme-detection.git"
   ]
  },
  {
   "cell_type": "code",
   "execution_count": 3,
   "metadata": {
    "executionInfo": {
     "elapsed": 4,
     "status": "ok",
     "timestamp": 1684097725281,
     "user": {
      "displayName": "Egehan Yorulmaz",
      "userId": "13356995240074227245"
     },
     "user_tz": 300
    },
    "id": "FzLaTpa8C3XP"
   },
   "outputs": [],
   "source": [
    "import pandas as pd"
   ]
  },
  {
   "cell_type": "code",
   "execution_count": 12,
   "metadata": {
    "executionInfo": {
     "elapsed": 9,
     "status": "ok",
     "timestamp": 1684098263241,
     "user": {
      "displayName": "Egehan Yorulmaz",
      "userId": "13356995240074227245"
     },
     "user_tz": 300
    },
    "id": "lvOknZc6D-xx"
   },
   "outputs": [
    {
     "name": "stdout",
     "output_type": "stream",
     "text": [
      "mkdir: cannot create directory ‘/.kaggle’: Permission denied\n",
      "cp: cannot create regular file '/.kaggle': Permission denied\n"
     ]
    }
   ],
   "source": [
    "%mkdir /.kaggle\n",
    "%cp \"kaggle.json\" -d /.kaggle/kaggle.json"
   ]
  },
  {
   "cell_type": "code",
   "execution_count": 13,
   "metadata": {},
   "outputs": [
    {
     "name": "stdout",
     "output_type": "stream",
     "text": [
      "Untitled.ipynb  \u001b[0m\u001b[01;34mhateful-meme-detection\u001b[0m/  kaggle.json  \u001b[01;34msrc\u001b[0m/  \u001b[01;34mtutorials\u001b[0m/\n"
     ]
    }
   ],
   "source": [
    "%ls "
   ]
  },
  {
   "cell_type": "code",
   "execution_count": 2,
   "metadata": {
    "colab": {
     "base_uri": "https://localhost:8080/"
    },
    "executionInfo": {
     "elapsed": 382,
     "status": "ok",
     "timestamp": 1684098131727,
     "user": {
      "displayName": "Egehan Yorulmaz",
      "userId": "13356995240074227245"
     },
     "user_tz": 300
    },
    "id": "66CFLMYMETsj",
    "outputId": "14a7b79f-bca1-4bc4-d93a-b368a54158da"
   },
   "outputs": [
    {
     "name": "stdout",
     "output_type": "stream",
     "text": [
      "ls: cannot access '/root/.kaggle': Permission denied\n"
     ]
    }
   ],
   "source": [
    "%ls -al /root/.kaggle "
   ]
  },
  {
   "cell_type": "code",
   "execution_count": 14,
   "metadata": {},
   "outputs": [],
   "source": [
    "# !pip install kaggle"
   ]
  },
  {
   "cell_type": "code",
   "execution_count": 15,
   "metadata": {
    "colab": {
     "base_uri": "https://localhost:8080/"
    },
    "executionInfo": {
     "elapsed": 127376,
     "status": "ok",
     "timestamp": 1684098263240,
     "user": {
      "displayName": "Egehan Yorulmaz",
      "userId": "13356995240074227245"
     },
     "user_tz": 300
    },
    "id": "T7HbWNRqC8h2",
    "outputId": "f4721137-90a9-4dc4-d8be-768a4d6b487c"
   },
   "outputs": [
    {
     "name": "stdout",
     "output_type": "stream",
     "text": [
      "Warning: Your Kaggle API key is readable by other users on this system! To fix this, you can run 'chmod 600 /home/jupyter/.kaggle/kaggle.json'\n",
      "Downloading facebook-hateful-meme-dataset.zip to /home/jupyter\n",
      "100%|██████████████████████████████████████▉| 3.35G/3.35G [00:28<00:00, 169MB/s]\n",
      "100%|███████████████████████████████████████| 3.35G/3.35G [00:28<00:00, 125MB/s]\n"
     ]
    }
   ],
   "source": [
    "!kaggle datasets download -d parthplc/facebook-hateful-meme-dataset"
   ]
  },
  {
   "cell_type": "code",
   "execution_count": 23,
   "metadata": {
    "colab": {
     "base_uri": "https://localhost:8080/"
    },
    "executionInfo": {
     "elapsed": 265,
     "status": "ok",
     "timestamp": 1684098398705,
     "user": {
      "displayName": "Egehan Yorulmaz",
      "userId": "13356995240074227245"
     },
     "user_tz": 300
    },
    "id": "6zLgsfnlC8e_",
    "outputId": "11230b44-85b4-48c8-9f9e-e9996096c4e8"
   },
   "outputs": [
    {
     "name": "stdout",
     "output_type": "stream",
     "text": [
      "total 3516648\n",
      "drwxr-xr-x 1 root root       4096 May 14 21:02 \u001b[0m\u001b[01;34m.\u001b[0m/\n",
      "drwxr-xr-x 1 root root       4096 May 14 20:54 \u001b[01;34m..\u001b[0m/\n",
      "drwxr-xr-x 4 root root       4096 May 11 16:34 \u001b[01;34m.config\u001b[0m/\n",
      "drwx------ 6 root root       4096 May 14 20:56 \u001b[01;34mdrive\u001b[0m/\n",
      "-rw-r--r-- 1 root root 3601011579 May 14 21:04 facebook-hateful-meme-dataset.zip\n",
      "drwxr-xr-x 3 root root       4096 May 14 20:57 \u001b[01;34mhateful-meme-detection\u001b[0m/\n",
      "drwxr-xr-x 2 root root       4096 May 14 20:59 \u001b[01;34m.kaggle\u001b[0m/\n",
      "drwxr-xr-x 1 root root       4096 May 11 16:35 \u001b[01;34msample_data\u001b[0m/\n"
     ]
    }
   ],
   "source": [
    "%ls -al"
   ]
  },
  {
   "cell_type": "code",
   "execution_count": 24,
   "metadata": {
    "executionInfo": {
     "elapsed": 222,
     "status": "ok",
     "timestamp": 1684098473580,
     "user": {
      "displayName": "Egehan Yorulmaz",
      "userId": "13356995240074227245"
     },
     "user_tz": 300
    },
    "id": "odjuZBxjFypX"
   },
   "outputs": [],
   "source": [
    "%mkdir \"/content/drive/MyDrive/Machine Learning/Final_Project/data\""
   ]
  },
  {
   "cell_type": "code",
   "execution_count": 18,
   "metadata": {},
   "outputs": [
    {
     "data": {
      "text/plain": [
       "'/home/jupyter'"
      ]
     },
     "execution_count": 18,
     "metadata": {},
     "output_type": "execute_result"
    }
   ],
   "source": [
    "%pwd"
   ]
  },
  {
   "cell_type": "code",
   "execution_count": 20,
   "metadata": {
    "executionInfo": {
     "elapsed": 5,
     "status": "ok",
     "timestamp": 1684098770641,
     "user": {
      "displayName": "Egehan Yorulmaz",
      "userId": "13356995240074227245"
     },
     "user_tz": 300
    },
    "id": "aE9iUR6yC8cm"
   },
   "outputs": [],
   "source": [
    "# %unzip facebook-hateful-meme-dataset.zip -d \"/content/drive/MyDrive/Machine Learning/Final_Project/\"\n",
    "!unzip -q facebook-hateful-meme-dataset.zip -d \"hateful-meme-detection/\" "
   ]
  },
  {
   "cell_type": "code",
   "execution_count": null,
   "metadata": {},
   "outputs": [],
   "source": []
  }
 ],
 "metadata": {
  "colab": {
   "authorship_tag": "ABX9TyOugjPhx0zCy3hpnp0lZ0Q7",
   "provenance": []
  },
  "environment": {
   "kernel": "python3",
   "name": "tf2-gpu.2-11.m108",
   "type": "gcloud",
   "uri": "gcr.io/deeplearning-platform-release/tf2-gpu.2-11:m108"
  },
  "kernelspec": {
   "display_name": "Python 3 (ipykernel)",
   "language": "python",
   "name": "python3"
  },
  "language_info": {
   "codemirror_mode": {
    "name": "ipython",
    "version": 3
   },
   "file_extension": ".py",
   "mimetype": "text/x-python",
   "name": "python",
   "nbconvert_exporter": "python",
   "pygments_lexer": "ipython3",
   "version": "3.10.10"
  }
 },
 "nbformat": 4,
 "nbformat_minor": 4
}
