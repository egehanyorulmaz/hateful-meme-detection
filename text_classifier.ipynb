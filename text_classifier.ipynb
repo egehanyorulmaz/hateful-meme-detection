{
  "nbformat": 4,
  "nbformat_minor": 0,
  "metadata": {
    "colab": {
      "provenance": [],
      "gpuType": "T4"
    },
    "kernelspec": {
      "name": "python3",
      "display_name": "Python 3"
    },
    "language_info": {
      "name": "python"
    },
    "accelerator": "GPU",
    "gpuClass": "standard"
  },
  "cells": [
    {
      "cell_type": "code",
      "source": [
        "!pip install ktrain -q\n",
        "!pip install pandarallel -q"
      ],
      "metadata": {
        "id": "Bo8Ce_yED2WV"
      },
      "execution_count": 5,
      "outputs": []
    },
    {
      "cell_type": "code",
      "execution_count": 6,
      "metadata": {
        "id": "V7snYwaBC7Pj"
      },
      "outputs": [],
      "source": [
        "import ktrain\n",
        "\n",
        "import os\n",
        "import shutil\n",
        "import numpy as np\n",
        "import pandas as pd\n",
        "import json"
      ]
    },
    {
      "cell_type": "code",
      "source": [
        "from pandarallel import pandarallel\n",
        "import multiprocessing\n",
        "\n",
        "num_processors = multiprocessing.cpu_count()\n",
        "print(f'Available CPUs: {num_processors}')\n",
        "\n",
        "pandarallel.initialize(nb_workers=num_processors, use_memory_fs=False, progress_bar=True)"
      ],
      "metadata": {
        "colab": {
          "base_uri": "https://localhost:8080/"
        },
        "id": "K-P41pgzDs9j",
        "outputId": "4a0d0fb8-bdf1-4436-9003-4689dc3873d4"
      },
      "execution_count": 7,
      "outputs": [
        {
          "output_type": "stream",
          "name": "stdout",
          "text": [
            "Available CPUs: 2\n",
            "INFO: Pandarallel will run on 2 workers.\n",
            "INFO: Pandarallel will use standard multiprocessing data transfer (pipe) to transfer data between the main process and workers.\n"
          ]
        }
      ]
    },
    {
      "cell_type": "code",
      "source": [
        "from google.colab import drive\n",
        "\n",
        "drive.mount(\"/content/drive\")"
      ],
      "metadata": {
        "colab": {
          "base_uri": "https://localhost:8080/"
        },
        "id": "iecqGSKWDXXM",
        "outputId": "530a8556-066e-4b90-da8c-e291f9fc63d9"
      },
      "execution_count": 8,
      "outputs": [
        {
          "output_type": "stream",
          "name": "stdout",
          "text": [
            "Mounted at /content/drive\n"
          ]
        }
      ]
    },
    {
      "cell_type": "markdown",
      "source": [
        "### Importing the data"
      ],
      "metadata": {
        "id": "Q0n3bSpkDuzQ"
      }
    },
    {
      "cell_type": "code",
      "source": [
        "ROOT_PATH = \"/content/drive/MyDrive/UChicago_MachineLearning/Machine_Learning/Final_Project\"\n"
      ],
      "metadata": {
        "id": "MhA3TeIBH2bT"
      },
      "execution_count": 10,
      "outputs": []
    },
    {
      "cell_type": "code",
      "source": [
        "TRAIN_JSONL_PATH = os.path.join(ROOT_PATH, \"data_raw/train.jsonl\")\n",
        "EVAL_JSONL_PATH =  os.path.join(ROOT_PATH, \"data_raw/dev.jsonl\")\n",
        "TEST_JSONL_PATH =  os.path.join(ROOT_PATH, \"data_raw/test.jsonl\")\n",
        "\n",
        "def read_jsonl(path):\n",
        "    # Open the JSONL file\n",
        "    with open(path, 'r') as file:\n",
        "        data_list = []\n",
        "        \n",
        "        # Read each line in the file\n",
        "        for line in file:\n",
        "            # Parse the JSON data from each line\n",
        "            data = json.loads(line)\n",
        "            \n",
        "            # Append the JSON data to the list\n",
        "            data_list.append(data)\n",
        "\n",
        "    # Create a Pandas DataFrame from the list of JSON objects\n",
        "    df = pd.DataFrame(data_list)\n",
        "    return df\n",
        "\n",
        "train = read_jsonl(TRAIN_JSONL_PATH)\n",
        "eval_df = read_jsonl(EVAL_JSONL_PATH)\n",
        "test = read_jsonl(TEST_JSONL_PATH)"
      ],
      "metadata": {
        "id": "SgCTJ-JHDunQ"
      },
      "execution_count": 11,
      "outputs": []
    },
    {
      "cell_type": "code",
      "source": [
        "train[\"dataset\"] = \"train\"\n",
        "eval_df[\"dataset\"] = \"eval\"\n",
        "test[\"dataset\"] = \"test\"\n",
        "\n",
        "main_df = pd.concat([train, eval_df], ignore_index=True)\n",
        "main_df.head()"
      ],
      "metadata": {
        "colab": {
          "base_uri": "https://localhost:8080/",
          "height": 206
        },
        "id": "QHTWTuQKDugt",
        "outputId": "d3171b32-88cd-4cc4-d4d1-593cb65ee9a1"
      },
      "execution_count": 12,
      "outputs": [
        {
          "output_type": "execute_result",
          "data": {
            "text/plain": [
              "      id            img  label  \\\n",
              "0  42953  img/42953.png      0   \n",
              "1  23058  img/23058.png      0   \n",
              "2  13894  img/13894.png      0   \n",
              "3  37408  img/37408.png      0   \n",
              "4  82403  img/82403.png      0   \n",
              "\n",
              "                                                text dataset  \n",
              "0   its their character not their color that matters   train  \n",
              "1  don't be afraid to love again everyone is not ...   train  \n",
              "2                           putting bows on your pet   train  \n",
              "3  i love everything and everybody! except for sq...   train  \n",
              "4  everybody loves chocolate chip cookies, even h...   train  "
            ],
            "text/html": [
              "\n",
              "  <div id=\"df-2bec6e97-202d-4423-b683-4d3441adb15f\">\n",
              "    <div class=\"colab-df-container\">\n",
              "      <div>\n",
              "<style scoped>\n",
              "    .dataframe tbody tr th:only-of-type {\n",
              "        vertical-align: middle;\n",
              "    }\n",
              "\n",
              "    .dataframe tbody tr th {\n",
              "        vertical-align: top;\n",
              "    }\n",
              "\n",
              "    .dataframe thead th {\n",
              "        text-align: right;\n",
              "    }\n",
              "</style>\n",
              "<table border=\"1\" class=\"dataframe\">\n",
              "  <thead>\n",
              "    <tr style=\"text-align: right;\">\n",
              "      <th></th>\n",
              "      <th>id</th>\n",
              "      <th>img</th>\n",
              "      <th>label</th>\n",
              "      <th>text</th>\n",
              "      <th>dataset</th>\n",
              "    </tr>\n",
              "  </thead>\n",
              "  <tbody>\n",
              "    <tr>\n",
              "      <th>0</th>\n",
              "      <td>42953</td>\n",
              "      <td>img/42953.png</td>\n",
              "      <td>0</td>\n",
              "      <td>its their character not their color that matters</td>\n",
              "      <td>train</td>\n",
              "    </tr>\n",
              "    <tr>\n",
              "      <th>1</th>\n",
              "      <td>23058</td>\n",
              "      <td>img/23058.png</td>\n",
              "      <td>0</td>\n",
              "      <td>don't be afraid to love again everyone is not ...</td>\n",
              "      <td>train</td>\n",
              "    </tr>\n",
              "    <tr>\n",
              "      <th>2</th>\n",
              "      <td>13894</td>\n",
              "      <td>img/13894.png</td>\n",
              "      <td>0</td>\n",
              "      <td>putting bows on your pet</td>\n",
              "      <td>train</td>\n",
              "    </tr>\n",
              "    <tr>\n",
              "      <th>3</th>\n",
              "      <td>37408</td>\n",
              "      <td>img/37408.png</td>\n",
              "      <td>0</td>\n",
              "      <td>i love everything and everybody! except for sq...</td>\n",
              "      <td>train</td>\n",
              "    </tr>\n",
              "    <tr>\n",
              "      <th>4</th>\n",
              "      <td>82403</td>\n",
              "      <td>img/82403.png</td>\n",
              "      <td>0</td>\n",
              "      <td>everybody loves chocolate chip cookies, even h...</td>\n",
              "      <td>train</td>\n",
              "    </tr>\n",
              "  </tbody>\n",
              "</table>\n",
              "</div>\n",
              "      <button class=\"colab-df-convert\" onclick=\"convertToInteractive('df-2bec6e97-202d-4423-b683-4d3441adb15f')\"\n",
              "              title=\"Convert this dataframe to an interactive table.\"\n",
              "              style=\"display:none;\">\n",
              "        \n",
              "  <svg xmlns=\"http://www.w3.org/2000/svg\" height=\"24px\"viewBox=\"0 0 24 24\"\n",
              "       width=\"24px\">\n",
              "    <path d=\"M0 0h24v24H0V0z\" fill=\"none\"/>\n",
              "    <path d=\"M18.56 5.44l.94 2.06.94-2.06 2.06-.94-2.06-.94-.94-2.06-.94 2.06-2.06.94zm-11 1L8.5 8.5l.94-2.06 2.06-.94-2.06-.94L8.5 2.5l-.94 2.06-2.06.94zm10 10l.94 2.06.94-2.06 2.06-.94-2.06-.94-.94-2.06-.94 2.06-2.06.94z\"/><path d=\"M17.41 7.96l-1.37-1.37c-.4-.4-.92-.59-1.43-.59-.52 0-1.04.2-1.43.59L10.3 9.45l-7.72 7.72c-.78.78-.78 2.05 0 2.83L4 21.41c.39.39.9.59 1.41.59.51 0 1.02-.2 1.41-.59l7.78-7.78 2.81-2.81c.8-.78.8-2.07 0-2.86zM5.41 20L4 18.59l7.72-7.72 1.47 1.35L5.41 20z\"/>\n",
              "  </svg>\n",
              "      </button>\n",
              "      \n",
              "  <style>\n",
              "    .colab-df-container {\n",
              "      display:flex;\n",
              "      flex-wrap:wrap;\n",
              "      gap: 12px;\n",
              "    }\n",
              "\n",
              "    .colab-df-convert {\n",
              "      background-color: #E8F0FE;\n",
              "      border: none;\n",
              "      border-radius: 50%;\n",
              "      cursor: pointer;\n",
              "      display: none;\n",
              "      fill: #1967D2;\n",
              "      height: 32px;\n",
              "      padding: 0 0 0 0;\n",
              "      width: 32px;\n",
              "    }\n",
              "\n",
              "    .colab-df-convert:hover {\n",
              "      background-color: #E2EBFA;\n",
              "      box-shadow: 0px 1px 2px rgba(60, 64, 67, 0.3), 0px 1px 3px 1px rgba(60, 64, 67, 0.15);\n",
              "      fill: #174EA6;\n",
              "    }\n",
              "\n",
              "    [theme=dark] .colab-df-convert {\n",
              "      background-color: #3B4455;\n",
              "      fill: #D2E3FC;\n",
              "    }\n",
              "\n",
              "    [theme=dark] .colab-df-convert:hover {\n",
              "      background-color: #434B5C;\n",
              "      box-shadow: 0px 1px 3px 1px rgba(0, 0, 0, 0.15);\n",
              "      filter: drop-shadow(0px 1px 2px rgba(0, 0, 0, 0.3));\n",
              "      fill: #FFFFFF;\n",
              "    }\n",
              "  </style>\n",
              "\n",
              "      <script>\n",
              "        const buttonEl =\n",
              "          document.querySelector('#df-2bec6e97-202d-4423-b683-4d3441adb15f button.colab-df-convert');\n",
              "        buttonEl.style.display =\n",
              "          google.colab.kernel.accessAllowed ? 'block' : 'none';\n",
              "\n",
              "        async function convertToInteractive(key) {\n",
              "          const element = document.querySelector('#df-2bec6e97-202d-4423-b683-4d3441adb15f');\n",
              "          const dataTable =\n",
              "            await google.colab.kernel.invokeFunction('convertToInteractive',\n",
              "                                                     [key], {});\n",
              "          if (!dataTable) return;\n",
              "\n",
              "          const docLinkHtml = 'Like what you see? Visit the ' +\n",
              "            '<a target=\"_blank\" href=https://colab.research.google.com/notebooks/data_table.ipynb>data table notebook</a>'\n",
              "            + ' to learn more about interactive tables.';\n",
              "          element.innerHTML = '';\n",
              "          dataTable['output_type'] = 'display_data';\n",
              "          await google.colab.output.renderOutput(dataTable, element);\n",
              "          const docLink = document.createElement('div');\n",
              "          docLink.innerHTML = docLinkHtml;\n",
              "          element.appendChild(docLink);\n",
              "        }\n",
              "      </script>\n",
              "    </div>\n",
              "  </div>\n",
              "  "
            ]
          },
          "metadata": {},
          "execution_count": 12
        }
      ]
    },
    {
      "cell_type": "code",
      "source": [
        "import ktrain\n",
        "from ktrain import text"
      ],
      "metadata": {
        "id": "euJIBJPPDmOJ"
      },
      "execution_count": 13,
      "outputs": []
    },
    {
      "cell_type": "code",
      "source": [
        "# Split the data\n",
        "(x_train, y_train), (x_test, y_test), preproc = text.texts_from_df(train_df=train,\n",
        "                                                                   text_column='text',\n",
        "                                                                   label_columns=['label'],\n",
        "                                                                   val_pct=0.2,\n",
        "                                                                   maxlen=350,\n",
        "                                                                   max_features=35000,\n",
        "                                                                   preprocess_mode='bert')"
      ],
      "metadata": {
        "colab": {
          "base_uri": "https://localhost:8080/",
          "height": 534
        },
        "id": "6ZLpHvHiDZqu",
        "outputId": "261eef2e-364d-49b6-a7dd-698071fe3e47"
      },
      "execution_count": 14,
      "outputs": [
        {
          "output_type": "stream",
          "name": "stdout",
          "text": [
            "['not_label', 'label']\n",
            "      not_label  label\n",
            "407         1.0    0.0\n",
            "2930        1.0    0.0\n",
            "2699        1.0    0.0\n",
            "1523        1.0    0.0\n",
            "199         1.0    0.0\n",
            "['not_label', 'label']\n",
            "      not_label  label\n",
            "7611        1.0    0.0\n",
            "4174        1.0    0.0\n",
            "5196        0.0    1.0\n",
            "3297        1.0    0.0\n",
            "5628        1.0    0.0\n",
            "downloading pretrained BERT model (uncased_L-12_H-768_A-12.zip)...\n",
            "[██████████████████████████████████████████████████]\n",
            "extracting pretrained BERT model...\n",
            "done.\n",
            "\n",
            "cleanup downloaded zip...\n",
            "done.\n",
            "\n",
            "preprocessing train...\n",
            "language: en\n"
          ]
        },
        {
          "output_type": "display_data",
          "data": {
            "text/plain": [
              "<IPython.core.display.HTML object>"
            ],
            "text/html": [
              "\n",
              "<style>\n",
              "    /* Turns off some styling */\n",
              "    progress {\n",
              "        /* gets rid of default border in Firefox and Opera. */\n",
              "        border: none;\n",
              "        /* Needs to be in here for Safari polyfill so background images work as expected. */\n",
              "        background-size: auto;\n",
              "    }\n",
              "    progress:not([value]), progress:not([value])::-webkit-progress-bar {\n",
              "        background: repeating-linear-gradient(45deg, #7e7e7e, #7e7e7e 10px, #5c5c5c 10px, #5c5c5c 20px);\n",
              "    }\n",
              "    .progress-bar-interrupted, .progress-bar-interrupted::-webkit-progress-bar {\n",
              "        background: #F44336;\n",
              "    }\n",
              "</style>\n"
            ]
          },
          "metadata": {}
        },
        {
          "output_type": "display_data",
          "data": {
            "text/plain": [
              "<IPython.core.display.HTML object>"
            ],
            "text/html": [
              "done."
            ]
          },
          "metadata": {}
        },
        {
          "output_type": "stream",
          "name": "stdout",
          "text": [
            "Is Multi-Label? False\n",
            "preprocessing test...\n",
            "language: en\n"
          ]
        },
        {
          "output_type": "display_data",
          "data": {
            "text/plain": [
              "<IPython.core.display.HTML object>"
            ],
            "text/html": [
              "\n",
              "<style>\n",
              "    /* Turns off some styling */\n",
              "    progress {\n",
              "        /* gets rid of default border in Firefox and Opera. */\n",
              "        border: none;\n",
              "        /* Needs to be in here for Safari polyfill so background images work as expected. */\n",
              "        background-size: auto;\n",
              "    }\n",
              "    progress:not([value]), progress:not([value])::-webkit-progress-bar {\n",
              "        background: repeating-linear-gradient(45deg, #7e7e7e, #7e7e7e 10px, #5c5c5c 10px, #5c5c5c 20px);\n",
              "    }\n",
              "    .progress-bar-interrupted, .progress-bar-interrupted::-webkit-progress-bar {\n",
              "        background: #F44336;\n",
              "    }\n",
              "</style>\n"
            ]
          },
          "metadata": {}
        },
        {
          "output_type": "display_data",
          "data": {
            "text/plain": [
              "<IPython.core.display.HTML object>"
            ],
            "text/html": [
              "done."
            ]
          },
          "metadata": {}
        }
      ]
    },
    {
      "cell_type": "code",
      "source": [
        "# Create the model\n",
        "model = text.text_classifier(name='bert',\n",
        "                             train_data=(x_train, y_train),\n",
        "                             preproc=preproc)\n"
      ],
      "metadata": {
        "colab": {
          "base_uri": "https://localhost:8080/"
        },
        "id": "G2pGizJAH6Dl",
        "outputId": "d0dec24f-85dd-4cc1-9985-b6615e8a010e"
      },
      "execution_count": 15,
      "outputs": [
        {
          "output_type": "stream",
          "name": "stdout",
          "text": [
            "Is Multi-Label? False\n",
            "maxlen is 350\n"
          ]
        },
        {
          "output_type": "stream",
          "name": "stderr",
          "text": [
            "/usr/local/lib/python3.10/dist-packages/keras/initializers/initializers.py:120: UserWarning: The initializer GlorotNormal is unseeded and being called multiple times, which will return identical values each time (even if the initializer is unseeded). Please update your code to provide a seed to the initializer, or avoid using the same initalizer instance more than once.\n",
            "  warnings.warn(\n"
          ]
        },
        {
          "output_type": "stream",
          "name": "stdout",
          "text": [
            "done.\n"
          ]
        }
      ]
    },
    {
      "cell_type": "code",
      "source": [
        "# Train the model\n",
        "learner = ktrain.get_learner(model=model,\n",
        "                             train_data=(x_train, y_train),\n",
        "                             val_data=(x_test, y_test),\n",
        "                             batch_size=6)\n",
        "\n",
        "learner.fit_onecycle(lr=2e-5, epochs=3, verbose=1)"
      ],
      "metadata": {
        "colab": {
          "base_uri": "https://localhost:8080/"
        },
        "id": "SKHWiepuHzlv",
        "outputId": "0d898b85-5d5f-4e46-8f4e-5f3d796594b9"
      },
      "execution_count": 16,
      "outputs": [
        {
          "output_type": "stream",
          "name": "stdout",
          "text": [
            "\n",
            "\n",
            "begin training using onecycle policy with max lr of 2e-05...\n",
            "Epoch 1/3\n",
            "1134/1134 [==============================] - 693s 589ms/step - loss: 0.6022 - accuracy: 0.6875 - val_loss: 0.5429 - val_accuracy: 0.7429\n",
            "Epoch 2/3\n",
            "1134/1134 [==============================] - 634s 559ms/step - loss: 0.5378 - accuracy: 0.7396 - val_loss: 0.5422 - val_accuracy: 0.7300\n",
            "Epoch 3/3\n",
            "1134/1134 [==============================] - 667s 589ms/step - loss: 0.4308 - accuracy: 0.7947 - val_loss: 0.5973 - val_accuracy: 0.6982\n"
          ]
        },
        {
          "output_type": "execute_result",
          "data": {
            "text/plain": [
              "<keras.callbacks.History at 0x7f8879600ee0>"
            ]
          },
          "metadata": {},
          "execution_count": 16
        }
      ]
    },
    {
      "cell_type": "code",
      "source": [
        "train_loss = [0.6022, 0.5378, 0.4308]\n",
        "eval_loss = [0.5429, 0.5422, 0.5973]"
      ],
      "metadata": {
        "id": "6L-PL9CZQVft"
      },
      "execution_count": null,
      "outputs": []
    },
    {
      "cell_type": "code",
      "source": [
        "# Save the model\n",
        "predictor = ktrain.get_predictor(learner.model, preproc)"
      ],
      "metadata": {
        "id": "G_sar202HzjH"
      },
      "execution_count": 17,
      "outputs": []
    },
    {
      "cell_type": "code",
      "source": [
        "y_true = list(eval_df[\"label\"])\n",
        "y_pred = predictor.predict(list(eval_df[\"text\"]))\n"
      ],
      "metadata": {
        "id": "X9QtzKYGHzhU"
      },
      "execution_count": 18,
      "outputs": []
    },
    {
      "cell_type": "code",
      "source": [
        "y_pred_train = predictor.predict(list(train[\"text\"]))\n",
        "y_true_train = list(train[\"label\"])"
      ],
      "metadata": {
        "id": "yCUKEKBiHzet"
      },
      "execution_count": 19,
      "outputs": []
    },
    {
      "cell_type": "code",
      "source": [
        "y_pred = [1 if _p==\"label\" else 0 for _p in y_pred]\n",
        "y_pred_train =  [1 if _p==\"label\" else 0 for _p in y_pred_train]"
      ],
      "metadata": {
        "id": "5700k5CtHzcp"
      },
      "execution_count": 22,
      "outputs": []
    },
    {
      "cell_type": "code",
      "source": [
        "from sklearn.metrics import classification_report, confusion_matrix\n",
        "import matplotlib.pyplot as plt\n",
        "import seaborn as sns\n",
        "\n",
        "# Classification report\n",
        "print(\"TRAIN SET: Classification Report:\")\n",
        "print(classification_report(y_true_train, y_pred_train))\n",
        "\n",
        "# Confusion Matrix\n",
        "cm = confusion_matrix(y_true_train, y_pred_train)\n",
        "\n",
        "# Confusion Matrix Visualization\n",
        "plt.figure(figsize=(10, 7))\n",
        "sns.heatmap(cm, annot=True, fmt=\"d\", cmap=\"YlGnBu\", xticklabels=preproc.get_classes(),\n",
        "            yticklabels=preproc.get_classes())\n",
        "plt.xlabel('Predicted')\n",
        "plt.ylabel('True')\n",
        "plt.title('Confusion Matrix')"
      ],
      "metadata": {
        "colab": {
          "base_uri": "https://localhost:8080/",
          "height": 837
        },
        "id": "6iphVeLhIZbj",
        "outputId": "073151b8-27bb-46d9-ab51-6d0a82c0b7a3"
      },
      "execution_count": 29,
      "outputs": [
        {
          "output_type": "stream",
          "name": "stdout",
          "text": [
            "TRAIN SET: Classification Report:\n",
            "              precision    recall  f1-score   support\n",
            "\n",
            "           0       0.84      0.88      0.86      5450\n",
            "           1       0.77      0.70      0.74      3050\n",
            "\n",
            "    accuracy                           0.82      8500\n",
            "   macro avg       0.81      0.79      0.80      8500\n",
            "weighted avg       0.82      0.82      0.82      8500\n",
            "\n"
          ]
        },
        {
          "output_type": "execute_result",
          "data": {
            "text/plain": [
              "Text(0.5, 1.0, 'Confusion Matrix')"
            ]
          },
          "metadata": {},
          "execution_count": 29
        },
        {
          "output_type": "display_data",
          "data": {
            "text/plain": [
              "<Figure size 1000x700 with 2 Axes>"
            ],
            "image/png": "[encoded data removed]"
          },
          "metadata": {}
        }
      ]
    },
    {
      "cell_type": "code",
      "source": [
        "# Classification report\n",
        "print(\"TEST SET: Classification Report:\")\n",
        "print(classification_report(y_true, y_pred))\n",
        "\n",
        "# Confusion Matrix\n",
        "cm = confusion_matrix(y_true, y_pred)\n",
        "\n",
        "# Confusion Matrix Visualization\n",
        "plt.figure(figsize=(10, 7))\n",
        "sns.heatmap(cm, annot=True, fmt=\"d\", cmap=\"YlGnBu\", xticklabels=preproc.get_classes(),\n",
        "            yticklabels=preproc.get_classes())\n",
        "plt.xlabel('Predicted')\n",
        "plt.ylabel('True')\n",
        "plt.title('Confusion Matrix')"
      ],
      "metadata": {
        "colab": {
          "base_uri": "https://localhost:8080/",
          "height": 837
        },
        "id": "KnYuq249IZZe",
        "outputId": "2ba0819a-c2df-4da6-8b6e-652c01604b78"
      },
      "execution_count": 30,
      "outputs": [
        {
          "output_type": "stream",
          "name": "stdout",
          "text": [
            "TEST SET: Classification Report:\n",
            "              precision    recall  f1-score   support\n",
            "\n",
            "           0       0.53      0.89      0.67       250\n",
            "           1       0.67      0.22      0.34       250\n",
            "\n",
            "    accuracy                           0.56       500\n",
            "   macro avg       0.60      0.56      0.50       500\n",
            "weighted avg       0.60      0.56      0.50       500\n",
            "\n"
          ]
        },
        {
          "output_type": "execute_result",
          "data": {
            "text/plain": [
              "Text(0.5, 1.0, 'Confusion Matrix')"
            ]
          },
          "metadata": {},
          "execution_count": 30
        },
        {
          "output_type": "display_data",
          "data": {
            "text/plain": [
              "<Figure size 1000x700 with 2 Axes>"
            ],
            "image/png": "[encoded data removed]"
          },
          "metadata": {}
        }
      ]
    },
    {
      "cell_type": "code",
      "source": [],
      "metadata": {
        "id": "REqkxw36IZXH"
      },
      "execution_count": null,
      "outputs": []
    }
  ]
}